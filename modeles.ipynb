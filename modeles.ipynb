{
 "cells": [
  {
   "cell_type": "markdown",
   "id": "alive-decade",
   "metadata": {},
   "source": [
    "# Models AMF challenge"
   ]
  },
  {
   "cell_type": "code",
   "execution_count": 1,
   "id": "talented-difficulty",
   "metadata": {},
   "outputs": [],
   "source": [
    "import numpy as np\n",
    "import pandas as pd\n",
    "import xgboost as xgb\n",
    "import sklearn.metrics\n",
    "import matplotlib.pyplot as plt\n",
    "\n",
    "from sklearn.metrics import f1_score, confusion_matrix, classification_report\n",
    "from sklearn.model_selection import train_test_split, learning_curve, GridSearchCV, RandomizedSearchCV\n",
    "from sklearn.pipeline import make_pipeline \n",
    "from sklearn.preprocessing import PolynomialFeatures, StandardScaler\n",
    "from sklearn.feature_selection import SelectKBest,f_classif\n",
    "from sklearn.impute import SimpleImputer, KNNImputer\n",
    "\n",
    "from sklearn.linear_model import LogisticRegression\n",
    "from sklearn.neighbors import KNeighborsClassifier\n",
    "from sklearn.ensemble import RandomForestClassifier,  AdaBoostClassifier"
   ]
  },
  {
   "cell_type": "markdown",
   "id": "administrative-least",
   "metadata": {},
   "source": [
    "# See the EDA file for preprocessing details."
   ]
  },
  {
   "cell_type": "code",
   "execution_count": 2,
   "id": "favorite-sperm",
   "metadata": {},
   "outputs": [
    {
     "data": {
      "text/plain": [
       "(array([22349.,     0.,     0.,     0.,     0., 51483.,     0.,     0.,\n",
       "            0., 31950.]),\n",
       " array([0. , 0.2, 0.4, 0.6, 0.8, 1. , 1.2, 1.4, 1.6, 1.8, 2. ]),\n",
       " <BarContainer object of 10 artists>)"
      ]
     },
     "execution_count": 2,
     "metadata": {},
     "output_type": "execute_result"
    },
    {
     "data": {
      "image/png": "[encoded data removed]",
      "text/plain": [
       "<Figure size 432x288 with 1 Axes>"
      ]
     },
     "metadata": {
      "needs_background": "light"
     },
     "output_type": "display_data"
    }
   ],
   "source": [
    "X = pd.read_csv('Xtrain.csv')\n",
    "y_class = pd.read_csv('ytrain.csv')\n",
    "\n",
    "\n",
    "X = pd.merge(X, y_class, how='inner', on='Trader') \n",
    "y_samples_class = X.pop(\"type\") \n",
    "\n",
    "plt.hist(y_samples_class)"
   ]
  },
  {
   "cell_type": "markdown",
   "id": "capable-hollywood",
   "metadata": {},
   "source": [
    "# Preprocessing :"
   ]
  },
  {
   "cell_type": "code",
   "execution_count": 3,
   "id": "paperback-impact",
   "metadata": {},
   "outputs": [],
   "source": [
    "def imputation(X): # delete useless columns\n",
    "    \n",
    "    X=X.drop('Index', axis=1) \n",
    "    X=X.drop('Share', axis=1)\n",
    "    X=X.drop('Day', axis=1)\n",
    "    X=X.drop(\"Trader\",axis=1)\n",
    "    \n",
    "    #X.dropna(axis=1, inplace=True) # first try but has been improved with mean imputation\n",
    "  \n",
    "    return  X\n",
    "\n",
    "X = imputation(X)"
   ]
  },
  {
   "cell_type": "code",
   "execution_count": 4,
   "id": "blind-graph",
   "metadata": {},
   "outputs": [],
   "source": [
    "columns_names = X.columns\n",
    "\n",
    "imputer = SimpleImputer( missing_values = np.nan,  strategy ='mean' ) # best strategy after many tries\n",
    "# imputer2= KNNImputer(n_neighbors=1) # worse\n",
    "\n",
    "X = imputer.fit_transform(X)"
   ]
  },
  {
   "cell_type": "markdown",
   "id": "standing-worst",
   "metadata": {},
   "source": [
    "# Different models comparison :"
   ]
  },
  {
   "cell_type": "code",
   "execution_count": 5,
   "id": "disabled-marine",
   "metadata": {},
   "outputs": [],
   "source": [
    "X_train, X_test, y_train, y_test = train_test_split( X, y_samples_class, test_size=0.2, random_state=0 )"
   ]
  },
  {
   "cell_type": "code",
   "execution_count": 6,
   "id": "earned-nigeria",
   "metadata": {},
   "outputs": [],
   "source": [
    "def evaluation( model, X_train, y_train, X_test, y_test ):\n",
    "    \n",
    "    model.fit( X_train, y_train )\n",
    "    ypred = model.predict( X_test )\n",
    "    \n",
    "    print( 'score f1', f1_score( y_test, ypred, average='micro') )\n",
    "    print( confusion_matrix( y_test, ypred ) )\n",
    "    print( classification_report( y_test, ypred ) )\n",
    "    "
   ]
  },
  {
   "cell_type": "code",
   "execution_count": 7,
   "id": "quantitative-gambling",
   "metadata": {},
   "outputs": [
    {
     "name": "stdout",
     "output_type": "stream",
     "text": [
      "RandomForestClassifier(random_state=0)\n",
      "score f1 0.9772179420522759\n",
      "[[ 6174   132    41]\n",
      " [   34 10108   107]\n",
      " [   43   125  4393]]\n",
      "              precision    recall  f1-score   support\n",
      "\n",
      "         HFT       0.99      0.97      0.98      6347\n",
      "         MIX       0.98      0.99      0.98     10249\n",
      "     NON HFT       0.97      0.96      0.97      4561\n",
      "\n",
      "    accuracy                           0.98     21157\n",
      "   macro avg       0.98      0.97      0.98     21157\n",
      "weighted avg       0.98      0.98      0.98     21157\n",
      "\n",
      "##################################################################################\n",
      "XGBClassifier(base_score=None, booster=None, colsample_bylevel=None,\n",
      "              colsample_bynode=None, colsample_bytree=None, gamma=None,\n",
      "              gpu_id=None, importance_type='gain', interaction_constraints=None,\n",
      "              learning_rate=None, max_delta_step=None, max_depth=None,\n",
      "              min_child_weight=None, missing=nan, monotone_constraints=None,\n",
      "              n_estimators=100, n_jobs=None, num_parallel_tree=None,\n",
      "              random_state=None, reg_alpha=None, reg_lambda=None,\n",
      "              scale_pos_weight=None, subsample=None, tree_method=None,\n",
      "              validate_parameters=None, verbosity=0)\n"
     ]
    },
    {
     "name": "stderr",
     "output_type": "stream",
     "text": [
      "C:\\Users\\pierr\\anaconda3\\lib\\site-packages\\xgboost\\sklearn.py:888: UserWarning: The use of label encoder in XGBClassifier is deprecated and will be removed in a future release. To remove this warning, do the following: 1) Pass option use_label_encoder=False when constructing XGBClassifier object; and 2) Encode your labels (y) as integers starting with 0, i.e. 0, 1, 2, ..., [num_class - 1].\n",
      "  warnings.warn(label_encoder_deprecation_msg, UserWarning)\n"
     ]
    },
    {
     "name": "stdout",
     "output_type": "stream",
     "text": [
      "score f1 0.983787871626412\n",
      "[[ 6236    77    34]\n",
      " [   34 10123    92]\n",
      " [   32    74  4455]]\n",
      "              precision    recall  f1-score   support\n",
      "\n",
      "         HFT       0.99      0.98      0.99      6347\n",
      "         MIX       0.99      0.99      0.99     10249\n",
      "     NON HFT       0.97      0.98      0.97      4561\n",
      "\n",
      "    accuracy                           0.98     21157\n",
      "   macro avg       0.98      0.98      0.98     21157\n",
      "weighted avg       0.98      0.98      0.98     21157\n",
      "\n",
      "##################################################################################\n",
      "AdaBoostClassifier(random_state=0)\n",
      "score f1 0.8473791180224041\n",
      "[[5505  686  156]\n",
      " [ 691 8236 1322]\n",
      " [ 120  254 4187]]\n",
      "              precision    recall  f1-score   support\n",
      "\n",
      "         HFT       0.87      0.87      0.87      6347\n",
      "         MIX       0.90      0.80      0.85     10249\n",
      "     NON HFT       0.74      0.92      0.82      4561\n",
      "\n",
      "    accuracy                           0.85     21157\n",
      "   macro avg       0.84      0.86      0.85     21157\n",
      "weighted avg       0.86      0.85      0.85     21157\n",
      "\n",
      "##################################################################################\n",
      "KNeighborsClassifier()\n",
      "score f1 0.8690267996407808\n",
      "[[5684  544  119]\n",
      " [ 639 9015  595]\n",
      " [ 251  623 3687]]\n",
      "              precision    recall  f1-score   support\n",
      "\n",
      "         HFT       0.86      0.90      0.88      6347\n",
      "         MIX       0.89      0.88      0.88     10249\n",
      "     NON HFT       0.84      0.81      0.82      4561\n",
      "\n",
      "    accuracy                           0.87     21157\n",
      "   macro avg       0.86      0.86      0.86     21157\n",
      "weighted avg       0.87      0.87      0.87     21157\n",
      "\n",
      "##################################################################################\n",
      "Pipeline(steps=[('standardscaler', StandardScaler()),\n",
      "                ('logisticregression', LogisticRegression(random_state=0))])\n"
     ]
    },
    {
     "name": "stderr",
     "output_type": "stream",
     "text": [
      "C:\\Users\\pierr\\anaconda3\\lib\\site-packages\\sklearn\\linear_model\\_logistic.py:762: ConvergenceWarning: lbfgs failed to converge (status=1):\n",
      "STOP: TOTAL NO. of ITERATIONS REACHED LIMIT.\n",
      "\n",
      "Increase the number of iterations (max_iter) or scale the data as shown in:\n",
      "    https://scikit-learn.org/stable/modules/preprocessing.html\n",
      "Please also refer to the documentation for alternative solver options:\n",
      "    https://scikit-learn.org/stable/modules/linear_model.html#logistic-regression\n",
      "  n_iter_i = _check_optimize_result(\n"
     ]
    },
    {
     "name": "stdout",
     "output_type": "stream",
     "text": [
      "score f1 0.7937325707803564\n",
      "[[4105 1979  263]\n",
      " [ 944 8840  465]\n",
      " [ 176  537 3848]]\n",
      "              precision    recall  f1-score   support\n",
      "\n",
      "         HFT       0.79      0.65      0.71      6347\n",
      "         MIX       0.78      0.86      0.82     10249\n",
      "     NON HFT       0.84      0.84      0.84      4561\n",
      "\n",
      "    accuracy                           0.79     21157\n",
      "   macro avg       0.80      0.78      0.79     21157\n",
      "weighted avg       0.79      0.79      0.79     21157\n",
      "\n",
      "##################################################################################\n"
     ]
    }
   ],
   "source": [
    "forest = RandomForestClassifier( random_state=0 )\n",
    "ada = AdaBoostClassifier( random_state=0 )\n",
    "knn = KNeighborsClassifier()\n",
    "logistic = make_pipeline( StandardScaler(), LogisticRegression(random_state=0) )\n",
    "xg = xgb.XGBClassifier( verbosity=0 )\n",
    "\n",
    "list_of_models = [ forest, xg, ada, knn, logistic]\n",
    "\n",
    "for model in list_of_models:\n",
    "    print( model )\n",
    "    evaluation( model, X_train, y_train, X_test, y_test )\n",
    "    print('##################################################################################')"
   ]
  },
  {
   "cell_type": "raw",
   "id": "restricted-playback",
   "metadata": {},
   "source": [
    "NB: bests are randomforest 0.977 and xgb 0.983 "
   ]
  },
  {
   "cell_type": "markdown",
   "id": "earned-accountability",
   "metadata": {},
   "source": [
    "# Features importance"
   ]
  },
  {
   "cell_type": "code",
   "execution_count": 8,
   "id": "administrative-stone",
   "metadata": {},
   "outputs": [
    {
     "data": {
      "text/plain": [
       "<AxesSubplot:>"
      ]
     },
     "execution_count": 8,
     "metadata": {},
     "output_type": "execute_result"
    },
    {
     "data": {
      "image/png": "[encoded data removed]",
      "text/plain": [
       "<Figure size 432x288 with 1 Axes>"
      ]
     },
     "metadata": {
      "needs_background": "light"
     },
     "output_type": "display_data"
    }
   ],
   "source": [
    "pd.DataFrame(forest.feature_importances_, index=columns_names).plot.bar() "
   ]
  },
  {
   "cell_type": "code",
   "execution_count": 9,
   "id": "engaging-contractor",
   "metadata": {},
   "outputs": [
    {
     "data": {
      "text/plain": [
       "<AxesSubplot:>"
      ]
     },
     "execution_count": 9,
     "metadata": {},
     "output_type": "execute_result"
    },
    {
     "data": {
      "image/png": "[encoded data removed]",
      "text/plain": [
       "<Figure size 432x288 with 1 Axes>"
      ]
     },
     "metadata": {
      "needs_background": "light"
     },
     "output_type": "display_data"
    }
   ],
   "source": [
    "pd.DataFrame(xg.feature_importances_, index=columns_names).plot.bar()"
   ]
  },
  {
   "cell_type": "markdown",
   "id": "hearing-hampton",
   "metadata": {},
   "source": [
    "# Learning curves :"
   ]
  },
  {
   "cell_type": "code",
   "execution_count": 11,
   "id": "finnish-thread",
   "metadata": {},
   "outputs": [],
   "source": [
    "def curves(model, X, y):\n",
    "          \n",
    "    N, train_score, val_score = learning_curve( model, X, y, cv=4, scoring='f1_micro', train_sizes = np.linspace( 0.1, 1, 5 ) )\n",
    "\n",
    "    plt.figure()\n",
    "    plt.plot( N, train_score.mean(axis=1), label='train' )\n",
    "    plt.plot( N, val_score.mean(axis=1), label='test' )\n",
    "    plt.legend()"
   ]
  },
  {
   "cell_type": "code",
   "execution_count": 12,
   "id": "opening-virus",
   "metadata": {},
   "outputs": [
    {
     "data": {
      "image/png": "[encoded data removed]",
      "text/plain": [
       "<Figure size 432x288 with 1 Axes>"
      ]
     },
     "metadata": {
      "needs_background": "light"
     },
     "output_type": "display_data"
    }
   ],
   "source": [
    "curves( forest, X, y_samples_class)"
   ]
  },
  {
   "cell_type": "code",
   "execution_count": 13,
   "id": "excessive-western",
   "metadata": {},
   "outputs": [
    {
     "name": "stderr",
     "output_type": "stream",
     "text": [
      "C:\\Users\\pierr\\anaconda3\\lib\\site-packages\\xgboost\\sklearn.py:888: UserWarning: The use of label encoder in XGBClassifier is deprecated and will be removed in a future release. To remove this warning, do the following: 1) Pass option use_label_encoder=False when constructing XGBClassifier object; and 2) Encode your labels (y) as integers starting with 0, i.e. 0, 1, 2, ..., [num_class - 1].\n",
      "  warnings.warn(label_encoder_deprecation_msg, UserWarning)\n",
      "C:\\Users\\pierr\\anaconda3\\lib\\site-packages\\sklearn\\model_selection\\_validation.py:548: FitFailedWarning: Estimator fit failed. The score on this train-test partition for these parameters will be set to nan. Details: \n",
      "Traceback (most recent call last):\n",
      "  File \"C:\\Users\\pierr\\anaconda3\\lib\\site-packages\\sklearn\\model_selection\\_validation.py\", line 531, in _fit_and_score\n",
      "    estimator.fit(X_train, y_train, **fit_params)\n",
      "  File \"C:\\Users\\pierr\\anaconda3\\lib\\site-packages\\xgboost\\core.py\", line 421, in inner_f\n",
      "    return f(**kwargs)\n",
      "  File \"C:\\Users\\pierr\\anaconda3\\lib\\site-packages\\xgboost\\sklearn.py\", line 909, in fit\n",
      "    self._Booster = train(xgb_options, train_dmatrix,\n",
      "  File \"C:\\Users\\pierr\\anaconda3\\lib\\site-packages\\xgboost\\training.py\", line 219, in train\n",
      "    bst = _train_internal(params, dtrain,\n",
      "  File \"C:\\Users\\pierr\\anaconda3\\lib\\site-packages\\xgboost\\training.py\", line 114, in _train_internal\n",
      "    bst.update(dtrain, i, obj)\n",
      "  File \"C:\\Users\\pierr\\anaconda3\\lib\\site-packages\\xgboost\\core.py\", line 1267, in update\n",
      "    _check_call(_LIB.XGBoosterUpdateOneIter(self.handle,\n",
      "  File \"C:\\Users\\pierr\\anaconda3\\lib\\site-packages\\xgboost\\core.py\", line 188, in _check_call\n",
      "    raise XGBoostError(py_str(_LIB.XGBGetLastError()))\n",
      "xgboost.core.XGBoostError: value 0 for Parameter num_class should be greater equal to 1\n",
      "num_class: Number of output class in the multi-class classification.\n",
      "\n",
      "  warnings.warn(\"Estimator fit failed. The score on this train-test\"\n"
     ]
    },
    {
     "data": {
      "image/png": "[encoded data removed]",
      "text/plain": [
       "<Figure size 432x288 with 1 Axes>"
      ]
     },
     "metadata": {
      "needs_background": "light"
     },
     "output_type": "display_data"
    }
   ],
   "source": [
    "curves(xg, X, y_samples_class)"
   ]
  },
  {
   "cell_type": "raw",
   "id": "ignored-blocking",
   "metadata": {},
   "source": [
    "NB : both overfitting!"
   ]
  },
  {
   "cell_type": "markdown",
   "id": "rubber-station",
   "metadata": {},
   "source": [
    "# Gridsearch for xgboost.\n"
   ]
  },
  {
   "cell_type": "code",
   "execution_count": 10,
   "id": "impaired-message",
   "metadata": {},
   "outputs": [
    {
     "data": {
      "text/plain": [
       "dict_keys(['objective', 'use_label_encoder', 'base_score', 'booster', 'colsample_bylevel', 'colsample_bynode', 'colsample_bytree', 'gamma', 'gpu_id', 'importance_type', 'interaction_constraints', 'learning_rate', 'max_delta_step', 'max_depth', 'min_child_weight', 'missing', 'monotone_constraints', 'n_estimators', 'n_jobs', 'num_parallel_tree', 'random_state', 'reg_alpha', 'reg_lambda', 'scale_pos_weight', 'subsample', 'tree_method', 'validate_parameters', 'verbosity'])"
      ]
     },
     "execution_count": 10,
     "metadata": {},
     "output_type": "execute_result"
    }
   ],
   "source": [
    "xgb.XGBClassifier().get_params().keys()"
   ]
  },
  {
   "cell_type": "code",
   "execution_count": 11,
   "id": "played-suicide",
   "metadata": {},
   "outputs": [
    {
     "data": {
      "text/plain": [
       "Pipeline(steps=[('standardscaler', StandardScaler()),\n",
       "                ('xgbclassifier',\n",
       "                 XGBClassifier(base_score=None, booster=None,\n",
       "                               colsample_bylevel=None, colsample_bynode=None,\n",
       "                               colsample_bytree=None, gamma=None, gpu_id=None,\n",
       "                               importance_type='gain',\n",
       "                               interaction_constraints=None, learning_rate=None,\n",
       "                               max_delta_step=None, max_depth=None,\n",
       "                               min_child_weight=None, missing=nan,\n",
       "                               monotone_constraints=None, n_estimators=100,\n",
       "                               n_jobs=None, num_parallel_tree=None,\n",
       "                               random_state=None, reg_alpha=None,\n",
       "                               reg_lambda=None, scale_pos_weight=None,\n",
       "                               subsample=None, tree_method=None,\n",
       "                               validate_parameters=None, verbosity=0))])"
      ]
     },
     "execution_count": 11,
     "metadata": {},
     "output_type": "execute_result"
    }
   ],
   "source": [
    "pipeline_xg = make_pipeline( StandardScaler(), xgb.XGBClassifier( use_label_encoder=True, verbosity=0 ) )\n",
    "pipeline_xg # to see the different steps and their name"
   ]
  },
  {
   "cell_type": "code",
   "execution_count": 23,
   "id": "answering-settle",
   "metadata": {},
   "outputs": [
    {
     "name": "stderr",
     "output_type": "stream",
     "text": [
      "C:\\Users\\pierr\\anaconda3\\lib\\site-packages\\xgboost\\sklearn.py:888: UserWarning: The use of label encoder in XGBClassifier is deprecated and will be removed in a future release. To remove this warning, do the following: 1) Pass option use_label_encoder=False when constructing XGBClassifier object; and 2) Encode your labels (y) as integers starting with 0, i.e. 0, 1, 2, ..., [num_class - 1].\n",
      "  warnings.warn(label_encoder_deprecation_msg, UserWarning)\n",
      "C:\\Users\\pierr\\anaconda3\\lib\\site-packages\\xgboost\\sklearn.py:888: UserWarning: The use of label encoder in XGBClassifier is deprecated and will be removed in a future release. To remove this warning, do the following: 1) Pass option use_label_encoder=False when constructing XGBClassifier object; and 2) Encode your labels (y) as integers starting with 0, i.e. 0, 1, 2, ..., [num_class - 1].\n",
      "  warnings.warn(label_encoder_deprecation_msg, UserWarning)\n",
      "C:\\Users\\pierr\\anaconda3\\lib\\site-packages\\xgboost\\sklearn.py:888: UserWarning: The use of label encoder in XGBClassifier is deprecated and will be removed in a future release. To remove this warning, do the following: 1) Pass option use_label_encoder=False when constructing XGBClassifier object; and 2) Encode your labels (y) as integers starting with 0, i.e. 0, 1, 2, ..., [num_class - 1].\n",
      "  warnings.warn(label_encoder_deprecation_msg, UserWarning)\n",
      "C:\\Users\\pierr\\anaconda3\\lib\\site-packages\\xgboost\\sklearn.py:888: UserWarning: The use of label encoder in XGBClassifier is deprecated and will be removed in a future release. To remove this warning, do the following: 1) Pass option use_label_encoder=False when constructing XGBClassifier object; and 2) Encode your labels (y) as integers starting with 0, i.e. 0, 1, 2, ..., [num_class - 1].\n",
      "  warnings.warn(label_encoder_deprecation_msg, UserWarning)\n",
      "C:\\Users\\pierr\\anaconda3\\lib\\site-packages\\xgboost\\sklearn.py:888: UserWarning: The use of label encoder in XGBClassifier is deprecated and will be removed in a future release. To remove this warning, do the following: 1) Pass option use_label_encoder=False when constructing XGBClassifier object; and 2) Encode your labels (y) as integers starting with 0, i.e. 0, 1, 2, ..., [num_class - 1].\n",
      "  warnings.warn(label_encoder_deprecation_msg, UserWarning)\n",
      "C:\\Users\\pierr\\anaconda3\\lib\\site-packages\\xgboost\\sklearn.py:888: UserWarning: The use of label encoder in XGBClassifier is deprecated and will be removed in a future release. To remove this warning, do the following: 1) Pass option use_label_encoder=False when constructing XGBClassifier object; and 2) Encode your labels (y) as integers starting with 0, i.e. 0, 1, 2, ..., [num_class - 1].\n",
      "  warnings.warn(label_encoder_deprecation_msg, UserWarning)\n",
      "C:\\Users\\pierr\\anaconda3\\lib\\site-packages\\xgboost\\sklearn.py:888: UserWarning: The use of label encoder in XGBClassifier is deprecated and will be removed in a future release. To remove this warning, do the following: 1) Pass option use_label_encoder=False when constructing XGBClassifier object; and 2) Encode your labels (y) as integers starting with 0, i.e. 0, 1, 2, ..., [num_class - 1].\n",
      "  warnings.warn(label_encoder_deprecation_msg, UserWarning)\n"
     ]
    },
    {
     "name": "stdout",
     "output_type": "stream",
     "text": [
      "score f1 0.9725859053741078\n",
      "[[ 6150   146    51]\n",
      " [   69 10033   147]\n",
      " [   54   113  4394]]\n",
      "              precision    recall  f1-score   support\n",
      "\n",
      "         HFT       0.98      0.97      0.97      6347\n",
      "         MIX       0.97      0.98      0.98     10249\n",
      "     NON HFT       0.96      0.96      0.96      4561\n",
      "\n",
      "    accuracy                           0.97     21157\n",
      "   macro avg       0.97      0.97      0.97     21157\n",
      "weighted avg       0.97      0.97      0.97     21157\n",
      "\n",
      "{'xgbclassifier__reg_lambda': 1, 'xgbclassifier__n_estimators': 200, 'xgbclassifier__max_depth': 4, 'xgbclassifier__learning_rate': 1, 'xgbclassifier__gamma': 10}\n"
     ]
    }
   ],
   "source": [
    "hyper_params={'xgbclassifier__max_depth':[ 2, 3, 4, 6 ],\n",
    "              'xgbclassifier__gamma':[ 0, 1, 10 ],\n",
    "              'xgbclassifier__learning_rate':[ 0.9, 1 ],\n",
    "              'xgbclassifier__reg_lambda':[ 0, 1, 2 ],\n",
    "              'xgbclassifier__n_estimators':[ 200, 300 ]} \n",
    "\n",
    "grid = RandomizedSearchCV( pipeline_xg, hyper_params, scoring='f1_micro', cv=3 , n_iter = 1 )\n",
    "grid.fit( X_train, y_train )\n",
    "\n",
    "best_model_xg = grid.best_estimator_\n",
    "evaluation( best_model_xg, X_train, y_train, X_test, y_test)\n",
    "print( grid.best_params_ )\n",
    "\n"
   ]
  },
  {
   "cell_type": "raw",
   "id": "invisible-cooling",
   "metadata": {},
   "source": [
    "NB: best parameters : \n",
    "0.980  rate 1,  reg_lambda =1 et n_estimators=300 (on competition 0.9285)\n",
    "0.986  imputation 0 (compet 0.90)\n",
    "0.985  imputation mean      (compet 0.95)\n",
    "0.983   KNN imputer  (0.88)"
   ]
  },
  {
   "cell_type": "markdown",
   "id": "occasional-characteristic",
   "metadata": {},
   "source": [
    "# Grid search for random forest"
   ]
  },
  {
   "cell_type": "code",
   "execution_count": null,
   "id": "extensive-neighbor",
   "metadata": {},
   "outputs": [],
   "source": [
    "in progress"
   ]
  },
  {
   "cell_type": "markdown",
   "id": "regulation-wedding",
   "metadata": {},
   "source": [
    "# Prediction : first, same preprocessing for X_true"
   ]
  },
  {
   "cell_type": "code",
   "execution_count": 14,
   "id": "crazy-poker",
   "metadata": {},
   "outputs": [],
   "source": [
    "X_true = pd.read_csv('Xtest.csv')\n",
    "y_trader_all = X_true[[\"Trader\"]]\n",
    "\n",
    "\n",
    "X_true = imputation(X_true) \n",
    "X_true = imputer.transform( X_true)"
   ]
  },
  {
   "cell_type": "code",
   "execution_count": 16,
   "id": "phantom-category",
   "metadata": {},
   "outputs": [],
   "source": [
    "#################################### FINAL PRED ######################################################\n",
    "\n",
    "ypred = best_model_xg.predict( X_true ) \n",
    "\n",
    "#################################### FINAL PRED ######################################################"
   ]
  },
  {
   "cell_type": "code",
   "execution_count": 17,
   "id": "every-score",
   "metadata": {},
   "outputs": [],
   "source": [
    "y_trader_all['type'] = ypred # adding a colmuns \"type\" with 250 000 classes\n"
   ]
  },
  {
   "cell_type": "markdown",
   "id": "collectible-junction",
   "metadata": {},
   "source": [
    "# Final submission :\n"
   ]
  },
  {
   "cell_type": "code",
   "execution_count": 18,
   "id": "floating-amendment",
   "metadata": {},
   "outputs": [
    {
     "data": {
      "text/html": [
       "<div>\n",
       "<style scoped>\n",
       "    .dataframe tbody tr th:only-of-type {\n",
       "        vertical-align: middle;\n",
       "    }\n",
       "\n",
       "    .dataframe tbody tr th {\n",
       "        vertical-align: top;\n",
       "    }\n",
       "\n",
       "    .dataframe thead th {\n",
       "        text-align: right;\n",
       "    }\n",
       "</style>\n",
       "<table border=\"1\" class=\"dataframe\">\n",
       "  <thead>\n",
       "    <tr style=\"text-align: right;\">\n",
       "      <th></th>\n",
       "      <th>Trader</th>\n",
       "      <th>type</th>\n",
       "    </tr>\n",
       "  </thead>\n",
       "  <tbody>\n",
       "    <tr>\n",
       "      <th>0</th>\n",
       "      <td>Adelaide</td>\n",
       "      <td>NON HFT</td>\n",
       "    </tr>\n",
       "    <tr>\n",
       "      <th>1</th>\n",
       "      <td>Alana</td>\n",
       "      <td>NON HFT</td>\n",
       "    </tr>\n",
       "    <tr>\n",
       "      <th>2</th>\n",
       "      <td>Alcmene</td>\n",
       "      <td>MIX</td>\n",
       "    </tr>\n",
       "    <tr>\n",
       "      <th>3</th>\n",
       "      <td>Alice</td>\n",
       "      <td>MIX</td>\n",
       "    </tr>\n",
       "    <tr>\n",
       "      <th>4</th>\n",
       "      <td>Alices Sister</td>\n",
       "      <td>NON HFT</td>\n",
       "    </tr>\n",
       "    <tr>\n",
       "      <th>...</th>\n",
       "      <td>...</td>\n",
       "      <td>...</td>\n",
       "    </tr>\n",
       "    <tr>\n",
       "      <th>80</th>\n",
       "      <td>Monstro</td>\n",
       "      <td>NON HFT</td>\n",
       "    </tr>\n",
       "    <tr>\n",
       "      <th>81</th>\n",
       "      <td>Morgana</td>\n",
       "      <td>MIX</td>\n",
       "    </tr>\n",
       "    <tr>\n",
       "      <th>82</th>\n",
       "      <td>The Doorknob</td>\n",
       "      <td>HFT</td>\n",
       "    </tr>\n",
       "    <tr>\n",
       "      <th>83</th>\n",
       "      <td>The Doorman</td>\n",
       "      <td>MIX</td>\n",
       "    </tr>\n",
       "    <tr>\n",
       "      <th>84</th>\n",
       "      <td>The Magic Mirror</td>\n",
       "      <td>NON HFT</td>\n",
       "    </tr>\n",
       "  </tbody>\n",
       "</table>\n",
       "<p>85 rows × 2 columns</p>\n",
       "</div>"
      ],
      "text/plain": [
       "              Trader     type\n",
       "0           Adelaide  NON HFT\n",
       "1              Alana  NON HFT\n",
       "2            Alcmene      MIX\n",
       "3              Alice      MIX\n",
       "4      Alices Sister  NON HFT\n",
       "..               ...      ...\n",
       "80           Monstro  NON HFT\n",
       "81           Morgana      MIX\n",
       "82      The Doorknob      HFT\n",
       "83       The Doorman      MIX\n",
       "84  The Magic Mirror  NON HFT\n",
       "\n",
       "[85 rows x 2 columns]"
      ]
     },
     "execution_count": 18,
     "metadata": {},
     "output_type": "execute_result"
    }
   ],
   "source": [
    "final_submission = pd.read_csv('example_submission.csv')\n",
    "final_submission"
   ]
  },
  {
   "cell_type": "code",
   "execution_count": 19,
   "id": "intellectual-virginia",
   "metadata": {},
   "outputs": [
    {
     "name": "stdout",
     "output_type": "stream",
     "text": [
      "Adelaide NON HFT\n",
      "Alana NON HFT\n",
      "Alcmene NON HFT\n",
      "Alice HFT\n",
      "Alices Sister NON HFT\n",
      "Angel (Experiment 624) NON HFT\n",
      "Annette MIX\n",
      "Armoire MIX\n",
      "Arthur/Wart NON HFT\n",
      "Axe MIX\n",
      "Baby Red Bird NON HFT\n",
      "Backwoods Beagle MIX\n",
      "Bacon Beagle NON HFT\n",
      "Baileywick MIX\n",
      "Bat Queen NON HFT\n",
      "Becky NON HFT\n",
      "Bent-Tail the Coyote HFT\n",
      "Big Al NON HFT\n",
      "Big Mama MIX\n",
      "Bill Green MIX\n",
      "Black Bart NON HFT\n",
      "Bobble NON HFT\n",
      "Bomber Beagle NON HFT\n",
      "Bookseller NON HFT\n",
      "Boomer NON HFT\n",
      "Bowler Hat Guy NON HFT\n",
      "Braddock NON HFT\n",
      "Brer Bear NON HFT\n",
      "Brudo Avarius HFT\n",
      "Bruno the Dog NON HFT\n",
      "Buck Leatherleaf HFT\n",
      "Bucky Oryx-Antlerson NON HFT\n",
      "Butch the Bulldog MIX\n",
      "Butcher Boy NON HFT\n",
      "Dallben NON HFT\n",
      "Danny MIX\n",
      "Dennis Avarius NON HFT\n",
      "Digger the Mole NON HFT\n",
      "Dijon the Thief MIX\n",
      "Don Karnage HFT\n",
      "Donald Duck HFT\n",
      "Doug Dalmatian NON HFT\n",
      "Dr. Delbert Doppler NON HFT\n",
      "Dr. Facilier MIX\n",
      "Dr. Joshua Sweet NON HFT\n",
      "Dr. Teeth NON HFT\n",
      "Duchess MIX\n",
      "Duke of Weselton MIX\n",
      "Dylan Dalmatian NON HFT\n",
      "Edric Blight NON HFT\n",
      "Elliott NON HFT\n",
      "Emperor Belos NON HFT\n",
      "Evinrude HFT\n",
      "Fairy Mary NON HFT\n",
      "Fidget MIX\n",
      "Flash MIX\n",
      "Flora MIX\n",
      "Flounder MIX\n",
      "Flunkey the Baboon NON HFT\n",
      "Francis HFT\n",
      "Friend Owl NON HFT\n",
      "Mad Hatter NON HFT\n",
      "Madame Medusa MIX\n",
      "Maddie Flour NON HFT\n",
      "Magic Carpet NON HFT\n",
      "Major the Horse MIX\n",
      "Marahute HFT\n",
      "March Hare NON HFT\n",
      "Marlon the Alligator NON HFT\n",
      "Mary Darling NON HFT\n",
      "Mattholomule NON HFT\n",
      "Maui HFT\n",
      "Max the Sheepdog MIX\n",
      "Megavolt MIX\n",
      "Melpomene HFT\n",
      "Merlock the Magician NON HFT\n",
      "Mike the Microphone NON HFT\n",
      "Miss Bianca NON HFT\n",
      "Miss Nettle NON HFT\n",
      "Moana NON HFT\n",
      "Monstro MIX\n",
      "Morgana MIX\n",
      "The Doorknob HFT\n",
      "The Doorman HFT\n",
      "The Magic Mirror MIX\n"
     ]
    }
   ],
   "source": [
    "for i in range( final_submission.shape[0] ): # decision rule\n",
    "    trader = final_submission[\"Trader\"][i]\n",
    "\n",
    "    temp = y_trader_all[ ( y_trader_all[\"Trader\"] == trader ) ] #dataframe of the rows with ONE same trader\n",
    "\n",
    "\n",
    "    nb_hft = sum( temp[\"type\"] == \"HFT\" )\n",
    "    nb_mix = sum( temp[\"type\"] == \"MIX\" )\n",
    "    nb_non_hft = sum( temp[\"type\"] == \"NON HFT\" )\n",
    "\n",
    "    total = nb_hft + nb_mix + nb_non_hft\n",
    "\n",
    "    if ( nb_hft / total > 0.85 ) :\n",
    "        category = \"HFT\"\n",
    "\n",
    "    elif ( nb_mix / total > 0.5 ) :\n",
    "        category = \"MIX\"\n",
    "\n",
    "    else:\n",
    "        category=\"NON HFT\"\n",
    "\n",
    "    print( trader, category )\n",
    "    final_submission[\"type\"][i] = category"
   ]
  },
  {
   "cell_type": "code",
   "execution_count": 21,
   "id": "differential-constitution",
   "metadata": {},
   "outputs": [],
   "source": [
    "final_submission.to_csv('essai prediction2' ,index=False)"
   ]
  },
  {
   "cell_type": "markdown",
   "id": "pleasant-neutral",
   "metadata": {},
   "source": [
    "# ############personnal notes : do not read####################"
   ]
  },
  {
   "cell_type": "markdown",
   "id": "scenic-dynamics",
   "metadata": {},
   "source": [
    "# Essai d'algorithme \"récent\" : catboost."
   ]
  },
  {
   "cell_type": "code",
   "execution_count": null,
   "id": "aggressive-fishing",
   "metadata": {},
   "outputs": [],
   "source": [
    "pip install catboost\n",
    "\n",
    "from catboost import CatBoostClassifier\n",
    "\n",
    "model = CatBoostClassifier()\n",
    "\n",
    "grid = {'learning_rate': [0.03, 0.1],\n",
    "        'depth': [4, 6, 10],\n",
    "        'l2_leaf_reg': [1, 3, 5, 7, 9]} #meilleurs: 0.1, 10, 1\n",
    "\n",
    "grid_search_result = model.grid_search(grid, \n",
    "                                       X=X, \n",
    "                                       y=y, \n",
    "                                       plot=False)"
   ]
  },
  {
   "cell_type": "code",
   "execution_count": null,
   "id": "color-maker",
   "metadata": {},
   "outputs": [],
   "source": [
    "model=CatBoostClassifier(learning_rate=0.1, depth=10, l2_leaf_reg=1)\n",
    "model.fit(X,y,plot=True)"
   ]
  },
  {
   "cell_type": "raw",
   "id": "blond-answer",
   "metadata": {},
   "source": [
    "NB : performance 0.88"
   ]
  },
  {
   "cell_type": "markdown",
   "id": "coated-shock",
   "metadata": {},
   "source": [
    "# On rajoute un select kbest dans le pipeline et on essaye un randomizedsearch. NOT WORKING"
   ]
  },
  {
   "cell_type": "code",
   "execution_count": null,
   "id": "unusual-therapy",
   "metadata": {},
   "outputs": [],
   "source": [
    "pipeline_forest=make_pipeline(SelectKBest(f_classif),RandomForestClassifier())\n",
    "pipeline_forest#pour voir les différentes étapes et leur nom"
   ]
  },
  {
   "cell_type": "code",
   "execution_count": null,
   "id": "subjective-london",
   "metadata": {},
   "outputs": [],
   "source": [
    "hyper_params={'selectkbest__k':[5 ,10 ,15 , 22],\n",
    "              'randomforestclassifier__n_estimators':[100, 200, 300],\n",
    "              'randomforestclassifier__max_depth':[3, 5, 10]}\n",
    "\n",
    "\n",
    "grid=RandomizedSearchCV(pipeline_forest,hyper_params,scoring='f1_micro', cv=5, n_iter=3)\n",
    "grid.fit(X_train, y_train)\n",
    "\n",
    "print(grid.best_params_)\n",
    "\n",
    "meilleure_forest_random = grid.best_estimator_\n",
    "evaluation(meilleure_forest_random)"
   ]
  },
  {
   "cell_type": "raw",
   "id": "hazardous-break",
   "metadata": {},
   "source": [
    "NB : 0.967 meilleurs paramètres pour kbest + foret : 22 et 200"
   ]
  }
 ],
 "metadata": {
  "kernelspec": {
   "display_name": "Python 3",
   "language": "python",
   "name": "python3"
  },
  "language_info": {
   "codemirror_mode": {
    "name": "ipython",
    "version": 3
   },
   "file_extension": ".py",
   "mimetype": "text/x-python",
   "name": "python",
   "nbconvert_exporter": "python",
   "pygments_lexer": "ipython3",
   "version": "3.8.5"
  }
 },
 "nbformat": 4,
 "nbformat_minor": 5
}
