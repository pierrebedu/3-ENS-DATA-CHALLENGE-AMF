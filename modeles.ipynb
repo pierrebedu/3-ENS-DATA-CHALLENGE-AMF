{
 "cells": [
  {
   "cell_type": "code",
   "execution_count": 1,
   "id": "talented-difficulty",
   "metadata": {},
   "outputs": [],
   "source": [
    "import numpy as np\n",
    "import pandas as pd\n",
    "import xgboost as xgb\n",
    "import sklearn.metrics\n",
    "import matplotlib.pyplot as plt\n",
    "\n",
    "from sklearn.metrics import f1_score, confusion_matrix, classification_report\n",
    "from sklearn.model_selection import train_test_split, learning_curve, GridSearchCV, RandomizedSearchCV\n",
    "from sklearn.pipeline import make_pipeline \n",
    "from sklearn.preprocessing import PolynomialFeatures, StandardScaler\n",
    "from sklearn.feature_selection import SelectKBest,f_classif\n",
    "from sklearn.impute import SimpleImputer, KNNImputer\n",
    "\n",
    "from sklearn.linear_model import LogisticRegression\n",
    "from sklearn.neighbors import KNeighborsClassifier\n",
    "from sklearn.ensemble import RandomForestClassifier,  AdaBoostClassifier"
   ]
  },
  {
   "cell_type": "markdown",
   "id": "administrative-least",
   "metadata": {},
   "source": [
    "# On crée X et y (par merge) :"
   ]
  },
  {
   "cell_type": "code",
   "execution_count": 2,
   "id": "favorite-sperm",
   "metadata": {},
   "outputs": [],
   "source": [
    "X=pd.read_csv('Xtrain.csv')\n",
    "y=pd.read_csv('ytrain.csv')\n",
    "\n",
    "\n",
    "X=pd.merge(X,y, how='inner', on='Trader') #on merge le vecteur type sur Xtrain\n",
    "y=X.pop(\"type\") \n",
    "\n"
   ]
  },
  {
   "cell_type": "code",
   "execution_count": 3,
   "id": "passive-killer",
   "metadata": {},
   "outputs": [
    {
     "data": {
      "text/plain": [
       "(array([22349.,     0.,     0.,     0.,     0., 51483.,     0.,     0.,\n",
       "            0., 31950.]),\n",
       " array([0. , 0.2, 0.4, 0.6, 0.8, 1. , 1.2, 1.4, 1.6, 1.8, 2. ]),\n",
       " <BarContainer object of 10 artists>)"
      ]
     },
     "execution_count": 3,
     "metadata": {},
     "output_type": "execute_result"
    },
    {
     "data": {
      "image/png": "[encoded data removed]",
      "text/plain": [
       "<Figure size 432x288 with 1 Axes>"
      ]
     },
     "metadata": {
      "needs_background": "light"
     },
     "output_type": "display_data"
    }
   ],
   "source": [
    "plt.hist(y)"
   ]
  },
  {
   "cell_type": "markdown",
   "id": "capable-hollywood",
   "metadata": {},
   "source": [
    "# Preprocessing :"
   ]
  },
  {
   "cell_type": "code",
   "execution_count": 4,
   "id": "paperback-impact",
   "metadata": {},
   "outputs": [],
   "source": [
    "def imputation(X):\n",
    "    X=X.drop('Index', axis=1) # on supprime les colonnes inutiles\n",
    "    X=X.drop('Share', axis=1)\n",
    "    X=X.drop('Day', axis=1)\n",
    "    X=X.drop(\"Trader\",axis=1)\n",
    "    \n",
    "    #X.dropna(axis=1, inplace=True) # premier jet d'imputation très basique, abandonné par la suite\n",
    "  \n",
    "    return  X\n",
    "\n",
    "X=imputation(X)"
   ]
  },
  {
   "cell_type": "code",
   "execution_count": 5,
   "id": "metallic-circumstances",
   "metadata": {},
   "outputs": [
    {
     "data": {
      "text/plain": [
       "pandas.core.frame.DataFrame"
      ]
     },
     "execution_count": 5,
     "metadata": {},
     "output_type": "execute_result"
    }
   ],
   "source": [
    "type(X)"
   ]
  },
  {
   "cell_type": "code",
   "execution_count": 6,
   "id": "blind-graph",
   "metadata": {},
   "outputs": [],
   "source": [
    "colonnes=X.columns\n",
    "\n",
    "imputer = SimpleImputer( missing_values = np.nan,  strategy ='mean' ) #meilleure startégie\n",
    "imputer2= KNNImputer(n_neighbors=1) #essai peu concluant\n",
    "\n",
    "X= imputer.fit_transform(X)"
   ]
  },
  {
   "cell_type": "markdown",
   "id": "standing-worst",
   "metadata": {},
   "source": [
    "# Comparaison de différents modèles :"
   ]
  },
  {
   "cell_type": "code",
   "execution_count": 7,
   "id": "disabled-marine",
   "metadata": {},
   "outputs": [],
   "source": [
    "X_train, X_test,y_train, y_test=train_test_split(X, y, test_size=0.2, random_state=0)"
   ]
  },
  {
   "cell_type": "code",
   "execution_count": 8,
   "id": "earned-nigeria",
   "metadata": {},
   "outputs": [],
   "source": [
    "def evaluation(model, X_train,y_train,X_test, y_test):\n",
    "    model.fit(X_train,y_train)\n",
    "    ypred = model.predict(X_test)\n",
    "    \n",
    "    print('score f1', f1_score(y_test, ypred, average='micro'))\n",
    "    print(confusion_matrix(y_test, ypred))\n",
    "    print(classification_report(y_test, ypred))\n",
    "    "
   ]
  },
  {
   "cell_type": "code",
   "execution_count": 10,
   "id": "quantitative-gambling",
   "metadata": {},
   "outputs": [
    {
     "name": "stdout",
     "output_type": "stream",
     "text": [
      "RandomForestClassifier(random_state=0)\n",
      "score f1 0.9772179420522759\n",
      "[[ 6174   132    41]\n",
      " [   34 10108   107]\n",
      " [   43   125  4393]]\n",
      "              precision    recall  f1-score   support\n",
      "\n",
      "         HFT       0.99      0.97      0.98      6347\n",
      "         MIX       0.98      0.99      0.98     10249\n",
      "     NON HFT       0.97      0.96      0.97      4561\n",
      "\n",
      "    accuracy                           0.98     21157\n",
      "   macro avg       0.98      0.97      0.98     21157\n",
      "weighted avg       0.98      0.98      0.98     21157\n",
      "\n",
      "##################################################################################\n",
      "XGBClassifier(base_score=None, booster=None, colsample_bylevel=None,\n",
      "              colsample_bynode=None, colsample_bytree=None, gamma=None,\n",
      "              gpu_id=None, importance_type='gain', interaction_constraints=None,\n",
      "              learning_rate=None, max_delta_step=None, max_depth=None,\n",
      "              min_child_weight=None, missing=nan, monotone_constraints=None,\n",
      "              n_estimators=100, n_jobs=None, num_parallel_tree=None,\n",
      "              random_state=None, reg_alpha=None, reg_lambda=None,\n",
      "              scale_pos_weight=None, subsample=None, tree_method=None,\n",
      "              validate_parameters=None, verbosity=None)\n"
     ]
    },
    {
     "name": "stderr",
     "output_type": "stream",
     "text": [
      "C:\\Users\\pierr\\anaconda3\\lib\\site-packages\\xgboost\\sklearn.py:888: UserWarning: The use of label encoder in XGBClassifier is deprecated and will be removed in a future release. To remove this warning, do the following: 1) Pass option use_label_encoder=False when constructing XGBClassifier object; and 2) Encode your labels (y) as integers starting with 0, i.e. 0, 1, 2, ..., [num_class - 1].\n",
      "  warnings.warn(label_encoder_deprecation_msg, UserWarning)\n"
     ]
    },
    {
     "name": "stdout",
     "output_type": "stream",
     "text": [
      "[15:28:51] WARNING: C:/Users/Administrator/workspace/xgboost-win64_release_1.3.0/src/learner.cc:1061: Starting in XGBoost 1.3.0, the default evaluation metric used with the objective 'multi:softprob' was changed from 'merror' to 'mlogloss'. Explicitly set eval_metric if you'd like to restore the old behavior.\n",
      "score f1 0.983787871626412\n",
      "[[ 6236    77    34]\n",
      " [   34 10123    92]\n",
      " [   32    74  4455]]\n",
      "              precision    recall  f1-score   support\n",
      "\n",
      "         HFT       0.99      0.98      0.99      6347\n",
      "         MIX       0.99      0.99      0.99     10249\n",
      "     NON HFT       0.97      0.98      0.97      4561\n",
      "\n",
      "    accuracy                           0.98     21157\n",
      "   macro avg       0.98      0.98      0.98     21157\n",
      "weighted avg       0.98      0.98      0.98     21157\n",
      "\n",
      "##################################################################################\n",
      "AdaBoostClassifier(random_state=0)\n",
      "score f1 0.8473791180224041\n",
      "[[5505  686  156]\n",
      " [ 691 8236 1322]\n",
      " [ 120  254 4187]]\n",
      "              precision    recall  f1-score   support\n",
      "\n",
      "         HFT       0.87      0.87      0.87      6347\n",
      "         MIX       0.90      0.80      0.85     10249\n",
      "     NON HFT       0.74      0.92      0.82      4561\n",
      "\n",
      "    accuracy                           0.85     21157\n",
      "   macro avg       0.84      0.86      0.85     21157\n",
      "weighted avg       0.86      0.85      0.85     21157\n",
      "\n",
      "##################################################################################\n",
      "KNeighborsClassifier()\n",
      "score f1 0.8690267996407808\n",
      "[[5684  544  119]\n",
      " [ 639 9015  595]\n",
      " [ 251  623 3687]]\n",
      "              precision    recall  f1-score   support\n",
      "\n",
      "         HFT       0.86      0.90      0.88      6347\n",
      "         MIX       0.89      0.88      0.88     10249\n",
      "     NON HFT       0.84      0.81      0.82      4561\n",
      "\n",
      "    accuracy                           0.87     21157\n",
      "   macro avg       0.86      0.86      0.86     21157\n",
      "weighted avg       0.87      0.87      0.87     21157\n",
      "\n",
      "##################################################################################\n",
      "Pipeline(steps=[('standardscaler', StandardScaler()),\n",
      "                ('logisticregression', LogisticRegression(random_state=0))])\n"
     ]
    },
    {
     "name": "stderr",
     "output_type": "stream",
     "text": [
      "C:\\Users\\pierr\\anaconda3\\lib\\site-packages\\sklearn\\linear_model\\_logistic.py:762: ConvergenceWarning: lbfgs failed to converge (status=1):\n",
      "STOP: TOTAL NO. of ITERATIONS REACHED LIMIT.\n",
      "\n",
      "Increase the number of iterations (max_iter) or scale the data as shown in:\n",
      "    https://scikit-learn.org/stable/modules/preprocessing.html\n",
      "Please also refer to the documentation for alternative solver options:\n",
      "    https://scikit-learn.org/stable/modules/linear_model.html#logistic-regression\n",
      "  n_iter_i = _check_optimize_result(\n"
     ]
    },
    {
     "name": "stdout",
     "output_type": "stream",
     "text": [
      "score f1 0.7937325707803564\n",
      "[[4105 1979  263]\n",
      " [ 944 8840  465]\n",
      " [ 176  537 3848]]\n",
      "              precision    recall  f1-score   support\n",
      "\n",
      "         HFT       0.79      0.65      0.71      6347\n",
      "         MIX       0.78      0.86      0.82     10249\n",
      "     NON HFT       0.84      0.84      0.84      4561\n",
      "\n",
      "    accuracy                           0.79     21157\n",
      "   macro avg       0.80      0.78      0.79     21157\n",
      "weighted avg       0.79      0.79      0.79     21157\n",
      "\n",
      "##################################################################################\n"
     ]
    }
   ],
   "source": [
    "forest = RandomForestClassifier(random_state=0)\n",
    "ada = AdaBoostClassifier(random_state=0)\n",
    "knn = KNeighborsClassifier()\n",
    "logistic = make_pipeline(StandardScaler(), LogisticRegression(random_state=0))\n",
    "xg = xgb.XGBClassifier()\n",
    "\n",
    "list_of_models=[forest,xg,ada,knn,logistic]\n",
    "\n",
    "for model in list_of_models:\n",
    "    print(model)\n",
    "    evaluation(model, X_train,y_train,X_test, y_test)\n",
    "    print('##################################################################################')"
   ]
  },
  {
   "cell_type": "raw",
   "id": "restricted-playback",
   "metadata": {},
   "source": [
    "NB: randomforest 0.977 et xgb 0.983 les meilleurs."
   ]
  },
  {
   "cell_type": "code",
   "execution_count": 11,
   "id": "administrative-stone",
   "metadata": {},
   "outputs": [
    {
     "data": {
      "text/plain": [
       "<AxesSubplot:>"
      ]
     },
     "execution_count": 11,
     "metadata": {},
     "output_type": "execute_result"
    },
    {
     "data": {
      "image/png": "[encoded data removed]",
      "text/plain": [
       "<Figure size 432x288 with 1 Axes>"
      ]
     },
     "metadata": {
      "needs_background": "light"
     },
     "output_type": "display_data"
    }
   ],
   "source": [
    "pd.DataFrame(forest.feature_importances_, index=colonnes).plot.bar()"
   ]
  },
  {
   "cell_type": "code",
   "execution_count": 12,
   "id": "engaging-contractor",
   "metadata": {},
   "outputs": [
    {
     "data": {
      "text/plain": [
       "<AxesSubplot:>"
      ]
     },
     "execution_count": 12,
     "metadata": {},
     "output_type": "execute_result"
    },
    {
     "data": {
      "image/png": "[encoded data removed]",
      "text/plain": [
       "<Figure size 432x288 with 1 Axes>"
      ]
     },
     "metadata": {
      "needs_background": "light"
     },
     "output_type": "display_data"
    }
   ],
   "source": [
    "pd.DataFrame(xg.feature_importances_, index=colonnes).plot.bar()"
   ]
  },
  {
   "cell_type": "markdown",
   "id": "hearing-hampton",
   "metadata": {},
   "source": [
    "# Diagnostique avec les courbes d'apprentissage :"
   ]
  },
  {
   "cell_type": "code",
   "execution_count": 9,
   "id": "finnish-thread",
   "metadata": {},
   "outputs": [],
   "source": [
    "def courbes(model, X, y):\n",
    "          \n",
    "    N, train_score, val_score = learning_curve(model, X, y, cv=4, scoring='f1_micro', train_sizes=np.linspace(0.1,1,5))\n",
    "\n",
    "    plt.figure()\n",
    "    plt.plot(N, train_score.mean(axis=1), label='train')\n",
    "    plt.plot(N, val_score.mean(axis=1),label='test')\n",
    "    plt.legend()"
   ]
  },
  {
   "cell_type": "code",
   "execution_count": 10,
   "id": "opening-virus",
   "metadata": {},
   "outputs": [
    {
     "data": {
      "image/png": "[encoded data removed]",
      "text/plain": [
       "<Figure size 432x288 with 1 Axes>"
      ]
     },
     "metadata": {
      "needs_background": "light"
     },
     "output_type": "display_data"
    }
   ],
   "source": [
    "courbes(forest, X, y)\n",
    "\n"
   ]
  },
  {
   "cell_type": "code",
   "execution_count": 17,
   "id": "excessive-western",
   "metadata": {},
   "outputs": [
    {
     "name": "stderr",
     "output_type": "stream",
     "text": [
      "C:\\Users\\pierr\\anaconda3\\lib\\site-packages\\xgboost\\sklearn.py:888: UserWarning: The use of label encoder in XGBClassifier is deprecated and will be removed in a future release. To remove this warning, do the following: 1) Pass option use_label_encoder=False when constructing XGBClassifier object; and 2) Encode your labels (y) as integers starting with 0, i.e. 0, 1, 2, ..., [num_class - 1].\n",
      "  warnings.warn(label_encoder_deprecation_msg, UserWarning)\n"
     ]
    },
    {
     "name": "stdout",
     "output_type": "stream",
     "text": [
      "[13:53:36] WARNING: C:/Users/Administrator/workspace/xgboost-win64_release_1.3.0/src/learner.cc:1061: Starting in XGBoost 1.3.0, the default evaluation metric used with the objective 'multi:softprob' was changed from 'merror' to 'mlogloss'. Explicitly set eval_metric if you'd like to restore the old behavior.\n",
      "[13:53:37] WARNING: C:/Users/Administrator/workspace/xgboost-win64_release_1.3.0/src/learner.cc:1061: Starting in XGBoost 1.3.0, the default evaluation metric used with the objective 'multi:softprob' was changed from 'merror' to 'mlogloss'. Explicitly set eval_metric if you'd like to restore the old behavior.\n",
      "[13:53:41] WARNING: C:/Users/Administrator/workspace/xgboost-win64_release_1.3.0/src/learner.cc:1061: Starting in XGBoost 1.3.0, the default evaluation metric used with the objective 'multi:softprob' was changed from 'merror' to 'mlogloss'. Explicitly set eval_metric if you'd like to restore the old behavior.\n",
      "[13:53:48] WARNING: C:/Users/Administrator/workspace/xgboost-win64_release_1.3.0/src/learner.cc:1061: Starting in XGBoost 1.3.0, the default evaluation metric used with the objective 'multi:softprob' was changed from 'merror' to 'mlogloss'. Explicitly set eval_metric if you'd like to restore the old behavior.\n",
      "[13:53:57] WARNING: C:/Users/Administrator/workspace/xgboost-win64_release_1.3.0/src/learner.cc:1061: Starting in XGBoost 1.3.0, the default evaluation metric used with the objective 'multi:softprob' was changed from 'merror' to 'mlogloss'. Explicitly set eval_metric if you'd like to restore the old behavior.\n",
      "[13:54:09] WARNING: C:/Users/Administrator/workspace/xgboost-win64_release_1.3.0/src/learner.cc:1061: Starting in XGBoost 1.3.0, the default evaluation metric used with the objective 'multi:softprob' was changed from 'merror' to 'mlogloss'. Explicitly set eval_metric if you'd like to restore the old behavior.\n",
      "[13:54:10] WARNING: C:/Users/Administrator/workspace/xgboost-win64_release_1.3.0/src/learner.cc:1061: Starting in XGBoost 1.3.0, the default evaluation metric used with the objective 'multi:softprob' was changed from 'merror' to 'mlogloss'. Explicitly set eval_metric if you'd like to restore the old behavior.\n",
      "[13:54:14] WARNING: C:/Users/Administrator/workspace/xgboost-win64_release_1.3.0/src/learner.cc:1061: Starting in XGBoost 1.3.0, the default evaluation metric used with the objective 'multi:softprob' was changed from 'merror' to 'mlogloss'. Explicitly set eval_metric if you'd like to restore the old behavior.\n",
      "[13:54:21] WARNING: C:/Users/Administrator/workspace/xgboost-win64_release_1.3.0/src/learner.cc:1061: Starting in XGBoost 1.3.0, the default evaluation metric used with the objective 'multi:softprob' was changed from 'merror' to 'mlogloss'. Explicitly set eval_metric if you'd like to restore the old behavior.\n",
      "[13:54:28] WARNING: C:/Users/Administrator/workspace/xgboost-win64_release_1.3.0/src/learner.cc:1061: Starting in XGBoost 1.3.0, the default evaluation metric used with the objective 'multi:softprob' was changed from 'merror' to 'mlogloss'. Explicitly set eval_metric if you'd like to restore the old behavior.\n",
      "[13:54:37] WARNING: C:/Users/Administrator/workspace/xgboost-win64_release_1.3.0/src/learner.cc:1061: Starting in XGBoost 1.3.0, the default evaluation metric used with the objective 'multi:softprob' was changed from 'merror' to 'mlogloss'. Explicitly set eval_metric if you'd like to restore the old behavior.\n",
      "[13:54:38] WARNING: C:/Users/Administrator/workspace/xgboost-win64_release_1.3.0/src/learner.cc:1061: Starting in XGBoost 1.3.0, the default evaluation metric used with the objective 'multi:softprob' was changed from 'merror' to 'mlogloss'. Explicitly set eval_metric if you'd like to restore the old behavior.\n",
      "[13:54:41] WARNING: C:/Users/Administrator/workspace/xgboost-win64_release_1.3.0/src/learner.cc:1061: Starting in XGBoost 1.3.0, the default evaluation metric used with the objective 'multi:softprob' was changed from 'merror' to 'mlogloss'. Explicitly set eval_metric if you'd like to restore the old behavior.\n",
      "[13:54:45] WARNING: C:/Users/Administrator/workspace/xgboost-win64_release_1.3.0/src/learner.cc:1061: Starting in XGBoost 1.3.0, the default evaluation metric used with the objective 'multi:softprob' was changed from 'merror' to 'mlogloss'. Explicitly set eval_metric if you'd like to restore the old behavior.\n",
      "[13:54:50] WARNING: C:/Users/Administrator/workspace/xgboost-win64_release_1.3.0/src/learner.cc:1061: Starting in XGBoost 1.3.0, the default evaluation metric used with the objective 'multi:softprob' was changed from 'merror' to 'mlogloss'. Explicitly set eval_metric if you'd like to restore the old behavior.\n",
      "[13:54:59] WARNING: C:/Users/Administrator/workspace/xgboost-win64_release_1.3.0/src/learner.cc:1061: Starting in XGBoost 1.3.0, the default evaluation metric used with the objective 'multi:softprob' was changed from 'merror' to 'mlogloss'. Explicitly set eval_metric if you'd like to restore the old behavior.\n",
      "[13:55:00] WARNING: C:/Users/Administrator/workspace/xgboost-win64_release_1.3.0/src/learner.cc:1061: Starting in XGBoost 1.3.0, the default evaluation metric used with the objective 'multi:softprob' was changed from 'merror' to 'mlogloss'. Explicitly set eval_metric if you'd like to restore the old behavior.\n",
      "[13:55:04] WARNING: C:/Users/Administrator/workspace/xgboost-win64_release_1.3.0/src/learner.cc:1061: Starting in XGBoost 1.3.0, the default evaluation metric used with the objective 'multi:softprob' was changed from 'merror' to 'mlogloss'. Explicitly set eval_metric if you'd like to restore the old behavior.\n",
      "[13:55:10] WARNING: C:/Users/Administrator/workspace/xgboost-win64_release_1.3.0/src/learner.cc:1061: Starting in XGBoost 1.3.0, the default evaluation metric used with the objective 'multi:softprob' was changed from 'merror' to 'mlogloss'. Explicitly set eval_metric if you'd like to restore the old behavior.\n",
      "[13:55:19] WARNING: C:/Users/Administrator/workspace/xgboost-win64_release_1.3.0/src/learner.cc:1061: Starting in XGBoost 1.3.0, the default evaluation metric used with the objective 'multi:softprob' was changed from 'merror' to 'mlogloss'. Explicitly set eval_metric if you'd like to restore the old behavior.\n"
     ]
    },
    {
     "data": {
      "image/png": "[encoded data removed]",
      "text/plain": [
       "<Figure size 432x288 with 1 Axes>"
      ]
     },
     "metadata": {
      "needs_background": "light"
     },
     "output_type": "display_data"
    }
   ],
   "source": [
    "courbes(xg, X, y)"
   ]
  },
  {
   "cell_type": "markdown",
   "id": "rubber-station",
   "metadata": {},
   "source": [
    "# Gridsearch pour xgboost.\n"
   ]
  },
  {
   "cell_type": "code",
   "execution_count": 7,
   "id": "impaired-message",
   "metadata": {},
   "outputs": [
    {
     "data": {
      "text/plain": [
       "dict_keys(['objective', 'use_label_encoder', 'base_score', 'booster', 'colsample_bylevel', 'colsample_bynode', 'colsample_bytree', 'gamma', 'gpu_id', 'importance_type', 'interaction_constraints', 'learning_rate', 'max_delta_step', 'max_depth', 'min_child_weight', 'missing', 'monotone_constraints', 'n_estimators', 'n_jobs', 'num_parallel_tree', 'random_state', 'reg_alpha', 'reg_lambda', 'scale_pos_weight', 'subsample', 'tree_method', 'validate_parameters', 'verbosity'])"
      ]
     },
     "execution_count": 7,
     "metadata": {},
     "output_type": "execute_result"
    }
   ],
   "source": [
    "xgb.XGBClassifier().get_params().keys()"
   ]
  },
  {
   "cell_type": "code",
   "execution_count": 8,
   "id": "played-suicide",
   "metadata": {},
   "outputs": [
    {
     "data": {
      "text/plain": [
       "Pipeline(steps=[('standardscaler', StandardScaler()),\n",
       "                ('xgbclassifier',\n",
       "                 XGBClassifier(base_score=None, booster=None,\n",
       "                               colsample_bylevel=None, colsample_bynode=None,\n",
       "                               colsample_bytree=None, gamma=None, gpu_id=None,\n",
       "                               importance_type='gain',\n",
       "                               interaction_constraints=None, learning_rate=None,\n",
       "                               max_delta_step=None, max_depth=None,\n",
       "                               min_child_weight=None, missing=nan,\n",
       "                               monotone_constraints=None, n_estimators=100,\n",
       "                               n_jobs=None, num_parallel_tree=None,\n",
       "                               random_state=None, reg_alpha=None,\n",
       "                               reg_lambda=None, scale_pos_weight=None,\n",
       "                               subsample=None, tree_method=None,\n",
       "                               validate_parameters=None, verbosity=0))])"
      ]
     },
     "execution_count": 8,
     "metadata": {},
     "output_type": "execute_result"
    }
   ],
   "source": [
    "pipeline_xg=make_pipeline(StandardScaler(), xgb.XGBClassifier(use_label_encoder=True, verbosity=0))\n",
    "pipeline_xg #pour voir les différentes étapes et leur nom"
   ]
  },
  {
   "cell_type": "code",
   "execution_count": 9,
   "id": "answering-settle",
   "metadata": {},
   "outputs": [
    {
     "name": "stderr",
     "output_type": "stream",
     "text": [
      "C:\\Users\\pierr\\anaconda3\\lib\\site-packages\\xgboost\\sklearn.py:888: UserWarning: The use of label encoder in XGBClassifier is deprecated and will be removed in a future release. To remove this warning, do the following: 1) Pass option use_label_encoder=False when constructing XGBClassifier object; and 2) Encode your labels (y) as integers starting with 0, i.e. 0, 1, 2, ..., [num_class - 1].\n",
      "  warnings.warn(label_encoder_deprecation_msg, UserWarning)\n",
      "C:\\Users\\pierr\\anaconda3\\lib\\site-packages\\xgboost\\sklearn.py:888: UserWarning: The use of label encoder in XGBClassifier is deprecated and will be removed in a future release. To remove this warning, do the following: 1) Pass option use_label_encoder=False when constructing XGBClassifier object; and 2) Encode your labels (y) as integers starting with 0, i.e. 0, 1, 2, ..., [num_class - 1].\n",
      "  warnings.warn(label_encoder_deprecation_msg, UserWarning)\n",
      "C:\\Users\\pierr\\anaconda3\\lib\\site-packages\\xgboost\\sklearn.py:888: UserWarning: The use of label encoder in XGBClassifier is deprecated and will be removed in a future release. To remove this warning, do the following: 1) Pass option use_label_encoder=False when constructing XGBClassifier object; and 2) Encode your labels (y) as integers starting with 0, i.e. 0, 1, 2, ..., [num_class - 1].\n",
      "  warnings.warn(label_encoder_deprecation_msg, UserWarning)\n",
      "C:\\Users\\pierr\\anaconda3\\lib\\site-packages\\xgboost\\sklearn.py:888: UserWarning: The use of label encoder in XGBClassifier is deprecated and will be removed in a future release. To remove this warning, do the following: 1) Pass option use_label_encoder=False when constructing XGBClassifier object; and 2) Encode your labels (y) as integers starting with 0, i.e. 0, 1, 2, ..., [num_class - 1].\n",
      "  warnings.warn(label_encoder_deprecation_msg, UserWarning)\n",
      "C:\\Users\\pierr\\anaconda3\\lib\\site-packages\\xgboost\\sklearn.py:888: UserWarning: The use of label encoder in XGBClassifier is deprecated and will be removed in a future release. To remove this warning, do the following: 1) Pass option use_label_encoder=False when constructing XGBClassifier object; and 2) Encode your labels (y) as integers starting with 0, i.e. 0, 1, 2, ..., [num_class - 1].\n",
      "  warnings.warn(label_encoder_deprecation_msg, UserWarning)\n",
      "C:\\Users\\pierr\\anaconda3\\lib\\site-packages\\xgboost\\sklearn.py:888: UserWarning: The use of label encoder in XGBClassifier is deprecated and will be removed in a future release. To remove this warning, do the following: 1) Pass option use_label_encoder=False when constructing XGBClassifier object; and 2) Encode your labels (y) as integers starting with 0, i.e. 0, 1, 2, ..., [num_class - 1].\n",
      "  warnings.warn(label_encoder_deprecation_msg, UserWarning)\n",
      "C:\\Users\\pierr\\anaconda3\\lib\\site-packages\\xgboost\\sklearn.py:888: UserWarning: The use of label encoder in XGBClassifier is deprecated and will be removed in a future release. To remove this warning, do the following: 1) Pass option use_label_encoder=False when constructing XGBClassifier object; and 2) Encode your labels (y) as integers starting with 0, i.e. 0, 1, 2, ..., [num_class - 1].\n",
      "  warnings.warn(label_encoder_deprecation_msg, UserWarning)\n"
     ]
    },
    {
     "name": "stdout",
     "output_type": "stream",
     "text": [
      "score f1 0.9830788864205701\n",
      "[[ 6255    59    33]\n",
      " [   46 10111    92]\n",
      " [   41    87  4433]]\n",
      "              precision    recall  f1-score   support\n",
      "\n",
      "         HFT       0.99      0.99      0.99      6347\n",
      "         MIX       0.99      0.99      0.99     10249\n",
      "     NON HFT       0.97      0.97      0.97      4561\n",
      "\n",
      "    accuracy                           0.98     21157\n",
      "   macro avg       0.98      0.98      0.98     21157\n",
      "weighted avg       0.98      0.98      0.98     21157\n",
      "\n",
      "{'xgbclassifier__learning_rate': 1, 'xgbclassifier__n_estimators': 300, 'xgbclassifier__reg_lambda': 1}\n"
     ]
    }
   ],
   "source": [
    "hyper_params={'xgbclassifier__learning_rate':[0.1, 1],\n",
    "              'xgbclassifier__reg_lambda':[1, 10],\n",
    "              'xgbclassifier__n_estimators':[200, 300]} #mettre deux underscore pour choisir la bonne étape du pipe\n",
    "\n",
    "\n",
    "grid=GridSearchCV(pipeline_xg, hyper_params, scoring='f1_micro', cv=5)\n",
    "grid.fit(X_train,y_train)\n",
    "\n",
    "meilleur_xg=grid.best_estimator_\n",
    "evaluation(meilleur_xg, X_train,y_train,X_test, y_test)\n",
    "print(grid.best_params_)\n",
    "\n"
   ]
  },
  {
   "cell_type": "raw",
   "id": "invisible-cooling",
   "metadata": {},
   "source": [
    "NB: meilleurs paramètres : \n",
    "0.980  rate 1,  reg_lambda =1 et n_estimators=300 (sur la competition 0.9285)\n",
    "0.986 avec imputation 0 (compète 0.90)\n",
    "0.985 avec moyenne      (compète 0.95)\n",
    "0.983 avec KNN imputer  (0.88)"
   ]
  },
  {
   "cell_type": "markdown",
   "id": "coated-shock",
   "metadata": {},
   "source": [
    "# On rajoute un select kbest dans le pipeline et on essaye un randomizedsearch."
   ]
  },
  {
   "cell_type": "code",
   "execution_count": 15,
   "id": "unusual-therapy",
   "metadata": {},
   "outputs": [
    {
     "data": {
      "text/plain": [
       "Pipeline(steps=[('selectkbest', SelectKBest()),\n",
       "                ('randomforestclassifier',\n",
       "                 RandomForestClassifier(n_estimators=300, random_state=0))])"
      ]
     },
     "execution_count": 15,
     "metadata": {},
     "output_type": "execute_result"
    }
   ],
   "source": [
    "pipeline_forest=make_pipeline(SelectKBest(f_classif),RandomForestClassifier())\n",
    "pipeline_forest#pour voir les différentes étapes et leur nom"
   ]
  },
  {
   "cell_type": "code",
   "execution_count": 17,
   "id": "subjective-london",
   "metadata": {},
   "outputs": [
    {
     "name": "stdout",
     "output_type": "stream",
     "text": [
      "{'selectkbest__k': 15, 'randomforestclassifier__n_estimators': 100}\n",
      "score f1 0.9675284775724347\n",
      "[[ 6097   198    52]\n",
      " [   94 10035   120]\n",
      " [   61   162  4338]]\n",
      "              precision    recall  f1-score   support\n",
      "\n",
      "         HFT       0.98      0.96      0.97      6347\n",
      "         MIX       0.97      0.98      0.97     10249\n",
      "     NON HFT       0.96      0.95      0.96      4561\n",
      "\n",
      "    accuracy                           0.97     21157\n",
      "   macro avg       0.97      0.96      0.97     21157\n",
      "weighted avg       0.97      0.97      0.97     21157\n",
      "\n"
     ]
    }
   ],
   "source": [
    "hyper_params={'selectkbest__k':[5 ,10 ,15 , 22],\n",
    "              'randomforestclassifier__n_estimators':[100, 200, 300],\n",
    "              'randomforestclassifier__max_depth':[3, 5, 10]}\n",
    "\n",
    "\n",
    "grid=RandomizedSearchCV(pipeline_forest,hyper_params,scoring='f1_micro', cv=5, n_iter=3)\n",
    "grid.fit(X_train, y_train)\n",
    "\n",
    "print(grid.best_params_)\n",
    "\n",
    "meilleure_forest_random = grid.best_estimator_\n",
    "evaluation(meilleure_forest_random)"
   ]
  },
  {
   "cell_type": "raw",
   "id": "hazardous-break",
   "metadata": {},
   "source": [
    "NB : 0.967 meilleurs paramètres pour kbest + foret : 22 et 200"
   ]
  },
  {
   "cell_type": "markdown",
   "id": "scenic-dynamics",
   "metadata": {},
   "source": [
    "# Essai d'algorithme \"récent\" : catboost."
   ]
  },
  {
   "cell_type": "code",
   "execution_count": 13,
   "id": "failing-weekend",
   "metadata": {},
   "outputs": [
    {
     "name": "stdout",
     "output_type": "stream",
     "text": [
      "Requirement already satisfied: catboost in c:\\users\\pierr\\anaconda3\\lib\\site-packages (0.24.4)\n",
      "Requirement already satisfied: graphviz in c:\\users\\pierr\\anaconda3\\lib\\site-packages (from catboost) (0.16)\n",
      "Requirement already satisfied: matplotlib in c:\\users\\pierr\\anaconda3\\lib\\site-packages (from catboost) (3.3.2)\n",
      "Requirement already satisfied: six in c:\\users\\pierr\\anaconda3\\lib\\site-packages (from catboost) (1.15.0)\n",
      "Requirement already satisfied: pandas>=0.24.0 in c:\\users\\pierr\\anaconda3\\lib\\site-packages (from catboost) (1.2.1)\n",
      "Requirement already satisfied: scipy in c:\\users\\pierr\\anaconda3\\lib\\site-packages (from catboost) (1.5.2)\n",
      "Requirement already satisfied: numpy>=1.16.0 in c:\\users\\pierr\\anaconda3\\lib\\site-packages (from catboost) (1.19.2)\n",
      "Requirement already satisfied: plotly in c:\\users\\pierr\\anaconda3\\lib\\site-packages (from catboost) (4.14.3)\n",
      "Requirement already satisfied: pytz>=2017.3 in c:\\users\\pierr\\anaconda3\\lib\\site-packages (from pandas>=0.24.0->catboost) (2020.5)\n",
      "Requirement already satisfied: python-dateutil>=2.7.3 in c:\\users\\pierr\\anaconda3\\lib\\site-packages (from pandas>=0.24.0->catboost) (2.8.1)\n",
      "Requirement already satisfied: pillow>=6.2.0 in c:\\users\\pierr\\anaconda3\\lib\\site-packages (from matplotlib->catboost) (8.1.0)\n",
      "Requirement already satisfied: kiwisolver>=1.0.1 in c:\\users\\pierr\\anaconda3\\lib\\site-packages (from matplotlib->catboost) (1.3.0)\n",
      "Requirement already satisfied: certifi>=2020.06.20 in c:\\users\\pierr\\anaconda3\\lib\\site-packages (from matplotlib->catboost) (2020.12.5)\n",
      "Requirement already satisfied: pyparsing!=2.0.4,!=2.1.2,!=2.1.6,>=2.0.3 in c:\\users\\pierr\\anaconda3\\lib\\site-packages (from matplotlib->catboost) (2.4.7)\n",
      "Requirement already satisfied: cycler>=0.10 in c:\\users\\pierr\\anaconda3\\lib\\site-packages (from matplotlib->catboost) (0.10.0)\n",
      "Requirement already satisfied: retrying>=1.3.3 in c:\\users\\pierr\\anaconda3\\lib\\site-packages (from plotly->catboost) (1.3.3)\n",
      "Note: you may need to restart the kernel to use updated packages.\n"
     ]
    }
   ],
   "source": [
    "pip install catboost"
   ]
  },
  {
   "cell_type": "code",
   "execution_count": 15,
   "id": "aggressive-fishing",
   "metadata": {},
   "outputs": [
    {
     "name": "stdout",
     "output_type": "stream",
     "text": [
      "\n",
      "bestTest = 0.1059886543\n",
      "bestIteration = 999\n",
      "\n",
      "0:\tloss: 0.1059887\tbest: 0.1059887 (0)\ttotal: 47.4s\tremaining: 22m 54s\n",
      "\n",
      "bestTest = 0.0711498312\n",
      "bestIteration = 999\n",
      "\n",
      "1:\tloss: 0.0711498\tbest: 0.0711498 (1)\ttotal: 1m 32s\tremaining: 21m 37s\n",
      "\n",
      "bestTest = 0.1070186102\n",
      "bestIteration = 999\n",
      "\n",
      "2:\tloss: 0.1070186\tbest: 0.0711498 (1)\ttotal: 2m 20s\tremaining: 21m 5s\n",
      "\n",
      "bestTest = 0.07329398926\n",
      "bestIteration = 999\n",
      "\n",
      "3:\tloss: 0.0732940\tbest: 0.0711498 (1)\ttotal: 3m 6s\tremaining: 20m 11s\n",
      "\n",
      "bestTest = 0.1081302737\n",
      "bestIteration = 999\n",
      "\n",
      "4:\tloss: 0.1081303\tbest: 0.0711498 (1)\ttotal: 3m 54s\tremaining: 19m 31s\n",
      "\n",
      "bestTest = 0.07434303858\n",
      "bestIteration = 999\n",
      "\n",
      "5:\tloss: 0.0743430\tbest: 0.0711498 (1)\ttotal: 4m 39s\tremaining: 18m 39s\n",
      "\n",
      "bestTest = 0.1096888006\n",
      "bestIteration = 999\n",
      "\n",
      "6:\tloss: 0.1096888\tbest: 0.0711498 (1)\ttotal: 5m 26s\tremaining: 17m 52s\n",
      "\n",
      "bestTest = 0.07560493771\n",
      "bestIteration = 999\n",
      "\n",
      "7:\tloss: 0.0756049\tbest: 0.0711498 (1)\ttotal: 6m 11s\tremaining: 17m\n",
      "\n",
      "bestTest = 0.1111489774\n",
      "bestIteration = 999\n",
      "\n",
      "8:\tloss: 0.1111490\tbest: 0.0711498 (1)\ttotal: 6m 56s\tremaining: 16m 12s\n",
      "\n",
      "bestTest = 0.07595972292\n",
      "bestIteration = 999\n",
      "\n",
      "9:\tloss: 0.0759597\tbest: 0.0711498 (1)\ttotal: 7m 41s\tremaining: 15m 23s\n",
      "\n",
      "bestTest = 0.07825351096\n",
      "bestIteration = 999\n",
      "\n",
      "10:\tloss: 0.0782535\tbest: 0.0711498 (1)\ttotal: 8m 49s\tremaining: 15m 14s\n",
      "\n",
      "bestTest = 0.05415482641\n",
      "bestIteration = 999\n",
      "\n",
      "11:\tloss: 0.0541548\tbest: 0.0541548 (11)\ttotal: 9m 55s\tremaining: 14m 53s\n",
      "\n",
      "bestTest = 0.08117335846\n",
      "bestIteration = 999\n",
      "\n",
      "12:\tloss: 0.0811734\tbest: 0.0541548 (11)\ttotal: 11m 4s\tremaining: 14m 29s\n",
      "\n",
      "bestTest = 0.05831056592\n",
      "bestIteration = 999\n",
      "\n",
      "13:\tloss: 0.0583106\tbest: 0.0541548 (11)\ttotal: 12m 9s\tremaining: 13m 53s\n",
      "\n",
      "bestTest = 0.08262469355\n",
      "bestIteration = 999\n",
      "\n",
      "14:\tloss: 0.0826247\tbest: 0.0541548 (11)\ttotal: 13m 25s\tremaining: 13m 25s\n",
      "\n",
      "bestTest = 0.05943906725\n",
      "bestIteration = 999\n",
      "\n",
      "15:\tloss: 0.0594391\tbest: 0.0541548 (11)\ttotal: 14m 39s\tremaining: 12m 49s\n",
      "\n",
      "bestTest = 0.08430235558\n",
      "bestIteration = 999\n",
      "\n",
      "16:\tloss: 0.0843024\tbest: 0.0541548 (11)\ttotal: 15m 45s\tremaining: 12m 3s\n",
      "\n",
      "bestTest = 0.05985459177\n",
      "bestIteration = 998\n",
      "\n",
      "17:\tloss: 0.0598546\tbest: 0.0541548 (11)\ttotal: 16m 53s\tremaining: 11m 15s\n",
      "\n",
      "bestTest = 0.08535849935\n",
      "bestIteration = 999\n",
      "\n",
      "18:\tloss: 0.0853585\tbest: 0.0541548 (11)\ttotal: 18m 12s\tremaining: 10m 32s\n",
      "\n",
      "bestTest = 0.06244130948\n",
      "bestIteration = 999\n",
      "\n",
      "19:\tloss: 0.0624413\tbest: 0.0541548 (11)\ttotal: 19m 34s\tremaining: 9m 47s\n",
      "\n",
      "bestTest = 0.0559316965\n",
      "bestIteration = 999\n",
      "\n",
      "20:\tloss: 0.0559317\tbest: 0.0541548 (11)\ttotal: 29m 50s\tremaining: 12m 47s\n",
      "\n",
      "bestTest = 0.04478207386\n",
      "bestIteration = 996\n",
      "\n",
      "21:\tloss: 0.0447821\tbest: 0.0447821 (21)\ttotal: 39m 51s\tremaining: 14m 29s\n"
     ]
    },
    {
     "ename": "KeyboardInterrupt",
     "evalue": "",
     "output_type": "error",
     "traceback": [
      "\u001b[1;31m---------------------------------------------------------------------------\u001b[0m",
      "\u001b[1;31mKeyboardInterrupt\u001b[0m                         Traceback (most recent call last)",
      "\u001b[1;32m<ipython-input-15-81f0319091bf>\u001b[0m in \u001b[0;36m<module>\u001b[1;34m\u001b[0m\n\u001b[0;32m      7\u001b[0m         'l2_leaf_reg': [1, 3, 5, 7, 9]} #meilleurs: 0.1, 10, 1\n\u001b[0;32m      8\u001b[0m \u001b[1;33m\u001b[0m\u001b[0m\n\u001b[1;32m----> 9\u001b[1;33m grid_search_result = model.grid_search(grid, \n\u001b[0m\u001b[0;32m     10\u001b[0m                                        \u001b[0mX\u001b[0m\u001b[1;33m=\u001b[0m\u001b[0mX\u001b[0m\u001b[1;33m,\u001b[0m\u001b[1;33m\u001b[0m\u001b[1;33m\u001b[0m\u001b[0m\n\u001b[0;32m     11\u001b[0m                                        \u001b[0my\u001b[0m\u001b[1;33m=\u001b[0m\u001b[0my\u001b[0m\u001b[1;33m,\u001b[0m\u001b[1;33m\u001b[0m\u001b[1;33m\u001b[0m\u001b[0m\n",
      "\u001b[1;32m~\\anaconda3\\lib\\site-packages\\catboost\\core.py\u001b[0m in \u001b[0;36mgrid_search\u001b[1;34m(self, param_grid, X, y, cv, partition_random_seed, calc_cv_statistics, search_by_train_test_split, refit, shuffle, stratified, train_size, verbose, plot)\u001b[0m\n\u001b[0;32m   3516\u001b[0m                     \u001b[1;32mraise\u001b[0m \u001b[0mTypeError\u001b[0m\u001b[1;33m(\u001b[0m\u001b[1;34m'Parameter grid value is not iterable (key={!r}, value={!r})'\u001b[0m\u001b[1;33m.\u001b[0m\u001b[0mformat\u001b[0m\u001b[1;33m(\u001b[0m\u001b[0mkey\u001b[0m\u001b[1;33m,\u001b[0m \u001b[0mgrid\u001b[0m\u001b[1;33m[\u001b[0m\u001b[0mkey\u001b[0m\u001b[1;33m]\u001b[0m\u001b[1;33m)\u001b[0m\u001b[1;33m)\u001b[0m\u001b[1;33m\u001b[0m\u001b[1;33m\u001b[0m\u001b[0m\n\u001b[0;32m   3517\u001b[0m \u001b[1;33m\u001b[0m\u001b[0m\n\u001b[1;32m-> 3518\u001b[1;33m         return self._tune_hyperparams(\n\u001b[0m\u001b[0;32m   3519\u001b[0m             \u001b[0mparam_grid\u001b[0m\u001b[1;33m=\u001b[0m\u001b[0mparam_grid\u001b[0m\u001b[1;33m,\u001b[0m \u001b[0mX\u001b[0m\u001b[1;33m=\u001b[0m\u001b[0mX\u001b[0m\u001b[1;33m,\u001b[0m \u001b[0my\u001b[0m\u001b[1;33m=\u001b[0m\u001b[0my\u001b[0m\u001b[1;33m,\u001b[0m \u001b[0mcv\u001b[0m\u001b[1;33m=\u001b[0m\u001b[0mcv\u001b[0m\u001b[1;33m,\u001b[0m \u001b[0mn_iter\u001b[0m\u001b[1;33m=\u001b[0m\u001b[1;33m-\u001b[0m\u001b[1;36m1\u001b[0m\u001b[1;33m,\u001b[0m\u001b[1;33m\u001b[0m\u001b[1;33m\u001b[0m\u001b[0m\n\u001b[0;32m   3520\u001b[0m             \u001b[0mpartition_random_seed\u001b[0m\u001b[1;33m=\u001b[0m\u001b[0mpartition_random_seed\u001b[0m\u001b[1;33m,\u001b[0m \u001b[0mcalc_cv_statistics\u001b[0m\u001b[1;33m=\u001b[0m\u001b[0mcalc_cv_statistics\u001b[0m\u001b[1;33m,\u001b[0m\u001b[1;33m\u001b[0m\u001b[1;33m\u001b[0m\u001b[0m\n",
      "\u001b[1;32m~\\anaconda3\\lib\\site-packages\\catboost\\core.py\u001b[0m in \u001b[0;36m_tune_hyperparams\u001b[1;34m(self, param_grid, X, y, cv, n_iter, partition_random_seed, calc_cv_statistics, search_by_train_test_split, refit, shuffle, stratified, train_size, verbose, plot)\u001b[0m\n\u001b[0;32m   3419\u001b[0m \u001b[1;33m\u001b[0m\u001b[0m\n\u001b[0;32m   3420\u001b[0m         \u001b[1;32mwith\u001b[0m \u001b[0mlog_fixup\u001b[0m\u001b[1;33m(\u001b[0m\u001b[1;33m)\u001b[0m\u001b[1;33m,\u001b[0m \u001b[0mplot_wrapper\u001b[0m\u001b[1;33m(\u001b[0m\u001b[0mplot\u001b[0m\u001b[1;33m,\u001b[0m \u001b[1;33m[\u001b[0m\u001b[0m_get_train_dir\u001b[0m\u001b[1;33m(\u001b[0m\u001b[0mparams\u001b[0m\u001b[1;33m)\u001b[0m\u001b[1;33m]\u001b[0m\u001b[1;33m)\u001b[0m\u001b[1;33m:\u001b[0m\u001b[1;33m\u001b[0m\u001b[1;33m\u001b[0m\u001b[0m\n\u001b[1;32m-> 3421\u001b[1;33m             cv_result = self._object._tune_hyperparams(\n\u001b[0m\u001b[0;32m   3422\u001b[0m                 \u001b[0mparam_grid\u001b[0m\u001b[1;33m,\u001b[0m \u001b[0mtrain_params\u001b[0m\u001b[1;33m[\u001b[0m\u001b[1;34m\"train_pool\"\u001b[0m\u001b[1;33m]\u001b[0m\u001b[1;33m,\u001b[0m \u001b[0mparams\u001b[0m\u001b[1;33m,\u001b[0m \u001b[0mn_iter\u001b[0m\u001b[1;33m,\u001b[0m\u001b[1;33m\u001b[0m\u001b[1;33m\u001b[0m\u001b[0m\n\u001b[0;32m   3423\u001b[0m                 \u001b[0mfold_count\u001b[0m\u001b[1;33m,\u001b[0m \u001b[0mpartition_random_seed\u001b[0m\u001b[1;33m,\u001b[0m \u001b[0mshuffle\u001b[0m\u001b[1;33m,\u001b[0m \u001b[0mstratified\u001b[0m\u001b[1;33m,\u001b[0m \u001b[0mtrain_size\u001b[0m\u001b[1;33m,\u001b[0m\u001b[1;33m\u001b[0m\u001b[1;33m\u001b[0m\u001b[0m\n",
      "\u001b[1;32m_catboost.pyx\u001b[0m in \u001b[0;36m_catboost._CatBoost._tune_hyperparams\u001b[1;34m()\u001b[0m\n",
      "\u001b[1;32m_catboost.pyx\u001b[0m in \u001b[0;36m_catboost._CatBoost._tune_hyperparams\u001b[1;34m()\u001b[0m\n",
      "\u001b[1;31mKeyboardInterrupt\u001b[0m: "
     ]
    }
   ],
   "source": [
    "from catboost import CatBoostClassifier\n",
    "\n",
    "model = CatBoostClassifier()\n",
    "\n",
    "grid = {'learning_rate': [0.03, 0.1],\n",
    "        'depth': [4, 6, 10],\n",
    "        'l2_leaf_reg': [1, 3, 5, 7, 9]} #meilleurs: 0.1, 10, 1\n",
    "\n",
    "grid_search_result = model.grid_search(grid, \n",
    "                                       X=X, \n",
    "                                       y=y, \n",
    "                                       plot=False)"
   ]
  },
  {
   "cell_type": "code",
   "execution_count": null,
   "id": "color-maker",
   "metadata": {},
   "outputs": [],
   "source": [
    "model=CatBoostClassifier(learning_rate=0.1, depth=10, l2_leaf_reg=1)\n",
    "model.fit(X,y,plot=True)"
   ]
  },
  {
   "cell_type": "raw",
   "id": "blond-answer",
   "metadata": {},
   "source": [
    "NB : performance 0.88"
   ]
  },
  {
   "cell_type": "markdown",
   "id": "collectible-junction",
   "metadata": {},
   "source": [
    "# Export final :\n"
   ]
  },
  {
   "cell_type": "code",
   "execution_count": 14,
   "id": "floating-amendment",
   "metadata": {},
   "outputs": [],
   "source": [
    "submission_finale=pd.read_csv('example_submission.csv')\n"
   ]
  },
  {
   "cell_type": "code",
   "execution_count": 11,
   "id": "crazy-poker",
   "metadata": {},
   "outputs": [],
   "source": [
    "X_true=pd.read_csv('Xtest.csv')\n",
    "\n",
    "pred_longue=X_true[[\"Trader\"]] #on met de côté l'ordre des traders\n",
    "\n",
    "\n",
    "X_true=imputation(X_true) #on fait le même preprocessing sur X_true\n",
    "X_true=imputer.transform( X_true)"
   ]
  },
  {
   "cell_type": "code",
   "execution_count": 12,
   "id": "phantom-category",
   "metadata": {},
   "outputs": [],
   "source": [
    "#################################### PRED FINALE ######################################################\n",
    "\n",
    "ypred=meilleur_xg.predict(X_true) \n",
    "\n",
    "#################################### PRED FINALE ######################################################"
   ]
  },
  {
   "cell_type": "code",
   "execution_count": 13,
   "id": "every-score",
   "metadata": {},
   "outputs": [],
   "source": [
    "pred_longue['type']=ypred #on rajoute le type\n"
   ]
  },
  {
   "cell_type": "code",
   "execution_count": 15,
   "id": "intellectual-virginia",
   "metadata": {},
   "outputs": [
    {
     "name": "stdout",
     "output_type": "stream",
     "text": [
      "Adelaide NON HFT\n",
      "Alana NON HFT\n",
      "Alcmene NON HFT\n",
      "Alice HFT\n",
      "Alices Sister NON HFT\n",
      "Angel (Experiment 624) NON HFT\n",
      "Annette MIX\n",
      "Armoire MIX\n",
      "Arthur/Wart NON HFT\n",
      "Axe MIX\n",
      "Baby Red Bird NON HFT\n",
      "Backwoods Beagle MIX\n",
      "Bacon Beagle NON HFT\n",
      "Baileywick MIX\n",
      "Bat Queen NON HFT\n",
      "Becky NON HFT\n",
      "Bent-Tail the Coyote HFT\n",
      "Big Al NON HFT\n",
      "Big Mama MIX\n",
      "Bill Green MIX\n",
      "Black Bart NON HFT\n",
      "Bobble NON HFT\n",
      "Bomber Beagle NON HFT\n",
      "Bookseller NON HFT\n",
      "Boomer NON HFT\n",
      "Bowler Hat Guy NON HFT\n",
      "Braddock NON HFT\n",
      "Brer Bear NON HFT\n",
      "Brudo Avarius HFT\n",
      "Bruno the Dog NON HFT\n",
      "Buck Leatherleaf HFT\n",
      "Bucky Oryx-Antlerson NON HFT\n",
      "Butch the Bulldog MIX\n",
      "Butcher Boy NON HFT\n",
      "Dallben NON HFT\n",
      "Danny MIX\n",
      "Dennis Avarius NON HFT\n",
      "Digger the Mole NON HFT\n",
      "Dijon the Thief MIX\n",
      "Don Karnage HFT\n",
      "Donald Duck HFT\n",
      "Doug Dalmatian NON HFT\n",
      "Dr. Delbert Doppler NON HFT\n",
      "Dr. Facilier MIX\n",
      "Dr. Joshua Sweet NON HFT\n",
      "Dr. Teeth NON HFT\n",
      "Duchess MIX\n",
      "Duke of Weselton MIX\n",
      "Dylan Dalmatian NON HFT\n",
      "Edric Blight NON HFT\n",
      "Elliott NON HFT\n",
      "Emperor Belos NON HFT\n",
      "Evinrude HFT\n",
      "Fairy Mary MIX\n",
      "Fidget MIX\n",
      "Flash MIX\n",
      "Flora MIX\n",
      "Flounder MIX\n",
      "Flunkey the Baboon NON HFT\n",
      "Francis HFT\n",
      "Friend Owl NON HFT\n",
      "Mad Hatter HFT\n",
      "Madame Medusa MIX\n",
      "Maddie Flour NON HFT\n",
      "Magic Carpet NON HFT\n",
      "Major the Horse MIX\n",
      "Marahute HFT\n",
      "March Hare NON HFT\n",
      "Marlon the Alligator NON HFT\n",
      "Mary Darling NON HFT\n",
      "Mattholomule NON HFT\n",
      "Maui HFT\n",
      "Max the Sheepdog MIX\n",
      "Megavolt MIX\n",
      "Melpomene HFT\n",
      "Merlock the Magician NON HFT\n",
      "Mike the Microphone NON HFT\n",
      "Miss Bianca NON HFT\n",
      "Miss Nettle NON HFT\n",
      "Moana NON HFT\n",
      "Monstro MIX\n",
      "Morgana MIX\n",
      "The Doorknob NON HFT\n",
      "The Doorman HFT\n",
      "The Magic Mirror MIX\n"
     ]
    }
   ],
   "source": [
    "for i in range(submission_finale.shape[0]): # règle de décision\n",
    "    individu = submission_finale[\"Trader\"][i]\n",
    "\n",
    "    temp=pred_longue[pred_longue[\"Trader\"]==individu] #on ne garde que les lignes de l'individu d'intérêt\n",
    "\n",
    "\n",
    "    nb_hft=sum(temp[\"type\"]==\"HFT\")\n",
    "    nb_mix=sum(temp[\"type\"]==\"MIX\")\n",
    "    nb_non_hft=sum(temp[\"type\"]==\"NON HFT\")\n",
    "\n",
    "    total=nb_hft+nb_mix+nb_non_hft\n",
    "\n",
    "    if nb_hft/total>0.85 :\n",
    "        categorie = \"HFT\"\n",
    "\n",
    "    elif nb_mix/total>0.5 :\n",
    "        categorie = \"MIX\"\n",
    "\n",
    "    else:\n",
    "        categorie=\"NON HFT\"\n",
    "\n",
    "    print(individu, categorie)\n",
    "    submission_finale[\"type\"][i]=categorie"
   ]
  },
  {
   "cell_type": "code",
   "execution_count": 16,
   "id": "differential-constitution",
   "metadata": {},
   "outputs": [],
   "source": [
    "submission_finale.to_csv('essai de prédiction' ,index=False)"
   ]
  }
 ],
 "metadata": {
  "kernelspec": {
   "display_name": "Python 3",
   "language": "python",
   "name": "python3"
  },
  "language_info": {
   "codemirror_mode": {
    "name": "ipython",
    "version": 3
   },
   "file_extension": ".py",
   "mimetype": "text/x-python",
   "name": "python",
   "nbconvert_exporter": "python",
   "pygments_lexer": "ipython3",
   "version": "3.8.5"
  }
 },
 "nbformat": 4,
 "nbformat_minor": 5
}
