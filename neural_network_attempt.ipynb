{
 "cells": [
  {
   "cell_type": "code",
   "execution_count": 1,
   "id": "beautiful-pearl",
   "metadata": {},
   "outputs": [],
   "source": [
    "import numpy as np\n",
    "import pandas as pd\n",
    "import xgboost as xgb\n",
    "import sklearn.metrics\n",
    "import matplotlib.pyplot as plt\n",
    "\n",
    "from sklearn.metrics import f1_score, confusion_matrix, classification_report\n",
    "from sklearn.model_selection import train_test_split, learning_curve, GridSearchCV, RandomizedSearchCV\n",
    "from sklearn.pipeline import make_pipeline \n",
    "from sklearn.preprocessing import PolynomialFeatures, StandardScaler\n",
    "from sklearn.feature_selection import SelectKBest,f_classif\n",
    "\n",
    "from sklearn.linear_model import LogisticRegression\n",
    "from sklearn.neighbors import KNeighborsClassifier\n",
    "from sklearn.ensemble import RandomForestClassifier,  AdaBoostClassifier"
   ]
  },
  {
   "cell_type": "code",
   "execution_count": 2,
   "id": "blank-beginning",
   "metadata": {},
   "outputs": [],
   "source": [
    "X=pd.read_csv('Xtrain.csv')\n",
    "y=pd.read_csv('ytrain.csv')\n",
    "\n",
    "\n",
    "X=pd.merge(X,y, how='inner', on='Trader') #on merge le vecteur type sur Xtrain\n",
    "y=X.pop(\"type\") #on met y au bon format série pour .fit\n"
   ]
  },
  {
   "cell_type": "markdown",
   "id": "conscious-switzerland",
   "metadata": {},
   "source": [
    "# Preprocessing :"
   ]
  },
  {
   "cell_type": "code",
   "execution_count": 3,
   "id": "sporting-sucking",
   "metadata": {},
   "outputs": [],
   "source": [
    "def imputation(X):\n",
    "    X=X.drop('Index', axis=1) # on supprime les colonnes inutiles\n",
    "    X=X.drop('Share', axis=1)\n",
    "    X=X.drop('Day', axis=1)\n",
    "    X=X.drop(\"Trader\",axis=1)\n",
    "    \n",
    "    index_bonnes_colonnes=X.columns[X.isna().sum()==0] #on supprime les colonnes avec des Nan -pour un essai rapide-\n",
    "    X=X[index_bonnes_colonnes]\n",
    "  \n",
    "    return  X\n",
    "\n",
    "X=imputation(X)"
   ]
  },
  {
   "cell_type": "code",
   "execution_count": 4,
   "id": "european-howard",
   "metadata": {},
   "outputs": [],
   "source": [
    "def encodage(y):\n",
    "    code = {'NON HFT':0, \n",
    "            'MIX':1,\n",
    "            'HFT':2}\n",
    "    \n",
    "    y=y.map(code)\n",
    "    return y\n",
    "\n",
    "y= encodage(y)"
   ]
  },
  {
   "cell_type": "code",
   "execution_count": 5,
   "id": "bizarre-offset",
   "metadata": {},
   "outputs": [
    {
     "data": {
      "text/plain": [
       "(74047, 21)"
      ]
     },
     "execution_count": 5,
     "metadata": {},
     "output_type": "execute_result"
    }
   ],
   "source": [
    "X_train, X_test,y_train, y_test=train_test_split(X, y, test_size=0.3, random_state=0)\n",
    "X_train.shape"
   ]
  },
  {
   "cell_type": "markdown",
   "id": "surprised-contamination",
   "metadata": {},
   "source": [
    "# Création du réseau de neurones :"
   ]
  },
  {
   "cell_type": "code",
   "execution_count": 6,
   "id": "final-pasta",
   "metadata": {},
   "outputs": [
    {
     "name": "stdout",
     "output_type": "stream",
     "text": [
      "Requirement already satisfied: tensorflow in c:\\users\\pierr\\anaconda3\\lib\\site-packages (2.4.1)\n",
      "Requirement already satisfied: tensorflow-estimator<2.5.0,>=2.4.0 in c:\\users\\pierr\\anaconda3\\lib\\site-packages (from tensorflow) (2.4.0)\n",
      "Requirement already satisfied: typing-extensions~=3.7.4 in c:\\users\\pierr\\anaconda3\\lib\\site-packages (from tensorflow) (3.7.4.3)\n",
      "Requirement already satisfied: grpcio~=1.32.0 in c:\\users\\pierr\\anaconda3\\lib\\site-packages (from tensorflow) (1.32.0)\n",
      "Requirement already satisfied: gast==0.3.3 in c:\\users\\pierr\\anaconda3\\lib\\site-packages (from tensorflow) (0.3.3)\n",
      "Requirement already satisfied: astunparse~=1.6.3 in c:\\users\\pierr\\anaconda3\\lib\\site-packages (from tensorflow) (1.6.3)\n",
      "Requirement already satisfied: keras-preprocessing~=1.1.2 in c:\\users\\pierr\\anaconda3\\lib\\site-packages (from tensorflow) (1.1.2)\n",
      "Requirement already satisfied: termcolor~=1.1.0 in c:\\users\\pierr\\anaconda3\\lib\\site-packages (from tensorflow) (1.1.0)\n",
      "Requirement already satisfied: h5py~=2.10.0 in c:\\users\\pierr\\anaconda3\\lib\\site-packages (from tensorflow) (2.10.0)\n",
      "Requirement already satisfied: tensorboard~=2.4 in c:\\users\\pierr\\anaconda3\\lib\\site-packages (from tensorflow) (2.4.1)\n",
      "Requirement already satisfied: absl-py~=0.10 in c:\\users\\pierr\\anaconda3\\lib\\site-packages (from tensorflow) (0.11.0)\n",
      "Requirement already satisfied: six~=1.15.0 in c:\\users\\pierr\\anaconda3\\lib\\site-packages (from tensorflow) (1.15.0)\n",
      "Requirement already satisfied: google-pasta~=0.2 in c:\\users\\pierr\\anaconda3\\lib\\site-packages (from tensorflow) (0.2.0)\n",
      "Requirement already satisfied: protobuf>=3.9.2 in c:\\users\\pierr\\anaconda3\\lib\\site-packages (from tensorflow) (3.14.0)\n",
      "Requirement already satisfied: wrapt~=1.12.1 in c:\\users\\pierr\\anaconda3\\lib\\site-packages (from tensorflow) (1.12.1)\n",
      "Requirement already satisfied: flatbuffers~=1.12.0 in c:\\users\\pierr\\anaconda3\\lib\\site-packages (from tensorflow) (1.12)\n",
      "Requirement already satisfied: opt-einsum~=3.3.0 in c:\\users\\pierr\\anaconda3\\lib\\site-packages (from tensorflow) (3.3.0)\n",
      "Requirement already satisfied: numpy~=1.19.2 in c:\\users\\pierr\\anaconda3\\lib\\site-packages (from tensorflow) (1.19.2)\n",
      "Requirement already satisfied: wheel~=0.35 in c:\\users\\pierr\\anaconda3\\lib\\site-packages (from tensorflow) (0.36.2)\n",
      "Requirement already satisfied: requests<3,>=2.21.0 in c:\\users\\pierr\\anaconda3\\lib\\site-packages (from tensorboard~=2.4->tensorflow) (2.25.1)\n",
      "Requirement already satisfied: google-auth-oauthlib<0.5,>=0.4.1 in c:\\users\\pierr\\anaconda3\\lib\\site-packages (from tensorboard~=2.4->tensorflow) (0.4.2)\n",
      "Requirement already satisfied: setuptools>=41.0.0 in c:\\users\\pierr\\anaconda3\\lib\\site-packages (from tensorboard~=2.4->tensorflow) (52.0.0.post20210125)\n",
      "Requirement already satisfied: google-auth<2,>=1.6.3 in c:\\users\\pierr\\anaconda3\\lib\\site-packages (from tensorboard~=2.4->tensorflow) (1.25.0)\n",
      "Requirement already satisfied: werkzeug>=0.11.15 in c:\\users\\pierr\\anaconda3\\lib\\site-packages (from tensorboard~=2.4->tensorflow) (1.0.1)\n",
      "Requirement already satisfied: markdown>=2.6.8 in c:\\users\\pierr\\anaconda3\\lib\\site-packages (from tensorboard~=2.4->tensorflow) (3.3.3)\n",
      "Requirement already satisfied: tensorboard-plugin-wit>=1.6.0 in c:\\users\\pierr\\anaconda3\\lib\\site-packages (from tensorboard~=2.4->tensorflow) (1.8.0)\n",
      "Requirement already satisfied: rsa<5,>=3.1.4 in c:\\users\\pierr\\anaconda3\\lib\\site-packages (from google-auth<2,>=1.6.3->tensorboard~=2.4->tensorflow) (4.7)\n",
      "Requirement already satisfied: pyasn1-modules>=0.2.1 in c:\\users\\pierr\\anaconda3\\lib\\site-packages (from google-auth<2,>=1.6.3->tensorboard~=2.4->tensorflow) (0.2.8)\n",
      "Requirement already satisfied: cachetools<5.0,>=2.0.0 in c:\\users\\pierr\\anaconda3\\lib\\site-packages (from google-auth<2,>=1.6.3->tensorboard~=2.4->tensorflow) (4.2.1)\n",
      "Requirement already satisfied: requests-oauthlib>=0.7.0 in c:\\users\\pierr\\anaconda3\\lib\\site-packages (from google-auth-oauthlib<0.5,>=0.4.1->tensorboard~=2.4->tensorflow) (1.3.0)\n",
      "Requirement already satisfied: pyasn1<0.5.0,>=0.4.6 in c:\\users\\pierr\\anaconda3\\lib\\site-packages (from pyasn1-modules>=0.2.1->google-auth<2,>=1.6.3->tensorboard~=2.4->tensorflow) (0.4.8)\n",
      "Requirement already satisfied: chardet<5,>=3.0.2 in c:\\users\\pierr\\anaconda3\\lib\\site-packages (from requests<3,>=2.21.0->tensorboard~=2.4->tensorflow) (4.0.0)\n",
      "Requirement already satisfied: certifi>=2017.4.17 in c:\\users\\pierr\\anaconda3\\lib\\site-packages (from requests<3,>=2.21.0->tensorboard~=2.4->tensorflow) (2020.12.5)\n",
      "Requirement already satisfied: idna<3,>=2.5 in c:\\users\\pierr\\anaconda3\\lib\\site-packages (from requests<3,>=2.21.0->tensorboard~=2.4->tensorflow) (2.10)\n",
      "Requirement already satisfied: urllib3<1.27,>=1.21.1 in c:\\users\\pierr\\anaconda3\\lib\\site-packages (from requests<3,>=2.21.0->tensorboard~=2.4->tensorflow) (1.26.3)\n",
      "Requirement already satisfied: oauthlib>=3.0.0 in c:\\users\\pierr\\anaconda3\\lib\\site-packages (from requests-oauthlib>=0.7.0->google-auth-oauthlib<0.5,>=0.4.1->tensorboard~=2.4->tensorflow) (3.1.0)\n",
      "Note: you may need to restart the kernel to use updated packages.\n"
     ]
    }
   ],
   "source": [
    "pip install --upgrade tensorflow\n"
   ]
  },
  {
   "cell_type": "code",
   "execution_count": 7,
   "id": "peaceful-madagascar",
   "metadata": {},
   "outputs": [
    {
     "name": "stdout",
     "output_type": "stream",
     "text": [
      "Model: \"sequential\"\n",
      "_________________________________________________________________\n",
      "Layer (type)                 Output Shape              Param #   \n",
      "=================================================================\n",
      "dense (Dense)                (None, 100)               2200      \n",
      "_________________________________________________________________\n",
      "dropout (Dropout)            (None, 100)               0         \n",
      "_________________________________________________________________\n",
      "batch_normalization (BatchNo (None, 100)               400       \n",
      "_________________________________________________________________\n",
      "dense_1 (Dense)              (None, 100)               10100     \n",
      "_________________________________________________________________\n",
      "dropout_1 (Dropout)          (None, 100)               0         \n",
      "_________________________________________________________________\n",
      "batch_normalization_1 (Batch (None, 100)               400       \n",
      "_________________________________________________________________\n",
      "dense_2 (Dense)              (None, 100)               10100     \n",
      "_________________________________________________________________\n",
      "dropout_2 (Dropout)          (None, 100)               0         \n",
      "_________________________________________________________________\n",
      "batch_normalization_2 (Batch (None, 100)               400       \n",
      "_________________________________________________________________\n",
      "dense_3 (Dense)              (None, 1)                 101       \n",
      "=================================================================\n",
      "Total params: 23,701\n",
      "Trainable params: 23,101\n",
      "Non-trainable params: 600\n",
      "_________________________________________________________________\n",
      "Best Validation Loss: 0.08236207813024521Best Validation Mse: 0.08236207813024521\n"
     ]
    },
    {
     "data": {
      "image/png": "[encoded data removed]",
      "text/plain": [
       "<Figure size 432x288 with 1 Axes>"
      ]
     },
     "metadata": {
      "needs_background": "light"
     },
     "output_type": "display_data"
    },
    {
     "data": {
      "image/png": "[encoded data removed]",
      "text/plain": [
       "<Figure size 432x288 with 1 Axes>"
      ]
     },
     "metadata": {
      "needs_background": "light"
     },
     "output_type": "display_data"
    }
   ],
   "source": [
    "import tensorflow as tf\n",
    "from tensorflow import keras\n",
    "from tensorflow.keras import layers, callbacks\n",
    "\n",
    "scaler=StandardScaler()\n",
    "X_train=scaler.fit_transform(X_train)\n",
    "X_test=scaler.transform(X_test)\n",
    "\n",
    "early_stopping = callbacks.EarlyStopping(min_delta=0.0005, patience = 20 , restore_best_weights=True)\n",
    "\n",
    "#création du reseau de neurones\n",
    "model=keras.Sequential([\n",
    "    layers.Dense(units=100,activation='relu',input_shape=[21]),\n",
    "    layers.Dropout(0.2),\n",
    "    layers.BatchNormalization(),\n",
    "    \n",
    "    \n",
    "    layers.Dense(units=100,activation='relu'),\n",
    "    layers.Dropout(0.2),\n",
    "    layers.BatchNormalization(),\n",
    "    \n",
    "    layers.Dense(units=100,activation='relu'),\n",
    "    layers.Dropout(0.2),\n",
    "    layers.BatchNormalization(),\n",
    "    \n",
    "    \n",
    "    layers.Dense(units=1)\n",
    "                        ])\n",
    "\n",
    "#fonction cout\n",
    "model.compile(optimizer='adam',loss='mse', metrics=['mse'])  \n",
    "model.summary()\n",
    "\n",
    "record = model.fit(\n",
    "    X_train, y_train,\n",
    "    validation_data=(X_test, y_test),\n",
    "    batch_size=50,\n",
    "    epochs=1000,\n",
    "    callbacks=[early_stopping],\n",
    "    verbose=0, # hide the output because we have so many epochs\n",
    ")\n",
    "\n",
    "history_df = pd.DataFrame(record.history)\n",
    "# Start the plot at epoch 5\n",
    "history_df.loc[5:, ['loss', 'val_loss']].plot()\n",
    "history_df.loc[5:, ['mse', 'val_mse']].plot()\n",
    "\n",
    "print((\"Best Validation Loss: {}\" + \"Best Validation Mse: {}\").format(history_df['val_loss'].min(), \n",
    "              history_df['val_mse'].min()))"
   ]
  },
  {
   "cell_type": "markdown",
   "id": "characteristic-washer",
   "metadata": {},
   "source": [
    "# Mise au bon format de la prediction :"
   ]
  },
  {
   "cell_type": "code",
   "execution_count": 9,
   "id": "bigger-spine",
   "metadata": {},
   "outputs": [],
   "source": [
    "X_true=pd.read_csv('Xtest.csv')\n",
    "\n",
    "pred_longue=X_true[[\"Trader\"]] #on met de côté l'ordre des traders dans le X_train.\n",
    "\n",
    "X_true=imputation(X_true)"
   ]
  },
  {
   "cell_type": "code",
   "execution_count": 10,
   "id": "musical-confidentiality",
   "metadata": {},
   "outputs": [],
   "source": [
    "X_true = scaler.transform(X_true)\n",
    "ypred=model.predict(X_true) "
   ]
  },
  {
   "cell_type": "code",
   "execution_count": 12,
   "id": "anticipated-freeze",
   "metadata": {},
   "outputs": [],
   "source": [
    "pred_longue['type']=ypred #on rajoute le type prédit"
   ]
  },
  {
   "cell_type": "code",
   "execution_count": 13,
   "id": "requested-laser",
   "metadata": {},
   "outputs": [
    {
     "data": {
      "text/html": [
       "<div>\n",
       "<style scoped>\n",
       "    .dataframe tbody tr th:only-of-type {\n",
       "        vertical-align: middle;\n",
       "    }\n",
       "\n",
       "    .dataframe tbody tr th {\n",
       "        vertical-align: top;\n",
       "    }\n",
       "\n",
       "    .dataframe thead th {\n",
       "        text-align: right;\n",
       "    }\n",
       "</style>\n",
       "<table border=\"1\" class=\"dataframe\">\n",
       "  <thead>\n",
       "    <tr style=\"text-align: right;\">\n",
       "      <th></th>\n",
       "      <th>Trader</th>\n",
       "      <th>type</th>\n",
       "    </tr>\n",
       "  </thead>\n",
       "  <tbody>\n",
       "    <tr>\n",
       "      <th>0</th>\n",
       "      <td>Adelaide</td>\n",
       "      <td>0.833091</td>\n",
       "    </tr>\n",
       "    <tr>\n",
       "      <th>1</th>\n",
       "      <td>Adelaide</td>\n",
       "      <td>1.198349</td>\n",
       "    </tr>\n",
       "    <tr>\n",
       "      <th>2</th>\n",
       "      <td>Adelaide</td>\n",
       "      <td>0.518957</td>\n",
       "    </tr>\n",
       "    <tr>\n",
       "      <th>3</th>\n",
       "      <td>Adelaide</td>\n",
       "      <td>1.088897</td>\n",
       "    </tr>\n",
       "    <tr>\n",
       "      <th>4</th>\n",
       "      <td>Adelaide</td>\n",
       "      <td>0.870098</td>\n",
       "    </tr>\n",
       "    <tr>\n",
       "      <th>...</th>\n",
       "      <td>...</td>\n",
       "      <td>...</td>\n",
       "    </tr>\n",
       "    <tr>\n",
       "      <th>85299</th>\n",
       "      <td>The Magic Mirror</td>\n",
       "      <td>0.989466</td>\n",
       "    </tr>\n",
       "    <tr>\n",
       "      <th>85300</th>\n",
       "      <td>The Magic Mirror</td>\n",
       "      <td>0.990927</td>\n",
       "    </tr>\n",
       "    <tr>\n",
       "      <th>85301</th>\n",
       "      <td>The Magic Mirror</td>\n",
       "      <td>0.974855</td>\n",
       "    </tr>\n",
       "    <tr>\n",
       "      <th>85302</th>\n",
       "      <td>The Magic Mirror</td>\n",
       "      <td>1.007948</td>\n",
       "    </tr>\n",
       "    <tr>\n",
       "      <th>85303</th>\n",
       "      <td>The Magic Mirror</td>\n",
       "      <td>1.022406</td>\n",
       "    </tr>\n",
       "  </tbody>\n",
       "</table>\n",
       "<p>85304 rows × 2 columns</p>\n",
       "</div>"
      ],
      "text/plain": [
       "                 Trader      type\n",
       "0              Adelaide  0.833091\n",
       "1              Adelaide  1.198349\n",
       "2              Adelaide  0.518957\n",
       "3              Adelaide  1.088897\n",
       "4              Adelaide  0.870098\n",
       "...                 ...       ...\n",
       "85299  The Magic Mirror  0.989466\n",
       "85300  The Magic Mirror  0.990927\n",
       "85301  The Magic Mirror  0.974855\n",
       "85302  The Magic Mirror  1.007948\n",
       "85303  The Magic Mirror  1.022406\n",
       "\n",
       "[85304 rows x 2 columns]"
      ]
     },
     "execution_count": 13,
     "metadata": {},
     "output_type": "execute_result"
    }
   ],
   "source": [
    "pred_longue"
   ]
  },
  {
   "cell_type": "code",
   "execution_count": 14,
   "id": "solar-production",
   "metadata": {},
   "outputs": [],
   "source": [
    "submission_finale=pd.read_csv('example_submission.csv')"
   ]
  },
  {
   "cell_type": "code",
   "execution_count": 15,
   "id": "consecutive-vancouver",
   "metadata": {},
   "outputs": [
    {
     "name": "stdout",
     "output_type": "stream",
     "text": [
      "Adelaide MIX\n",
      "Alana NON HFT\n",
      "Alcmene NON HFT\n",
      "Alice HFT\n",
      "Alices Sister NON HFT\n",
      "Angel (Experiment 624) NON HFT\n",
      "Annette MIX\n",
      "Armoire MIX\n",
      "Arthur/Wart MIX\n",
      "Axe MIX\n",
      "Baby Red Bird MIX\n",
      "Backwoods Beagle MIX\n",
      "Bacon Beagle NON HFT\n",
      "Baileywick MIX\n",
      "Bat Queen NON HFT\n",
      "Becky NON HFT\n",
      "Bent-Tail the Coyote NON HFT\n",
      "Big Al NON HFT\n",
      "Big Mama MIX\n",
      "Bill Green MIX\n",
      "Black Bart NON HFT\n",
      "Bobble NON HFT\n",
      "Bomber Beagle NON HFT\n",
      "Bookseller NON HFT\n",
      "Boomer NON HFT\n",
      "Bowler Hat Guy NON HFT\n",
      "Braddock MIX\n",
      "Brer Bear NON HFT\n",
      "Brudo Avarius HFT\n",
      "Bruno the Dog NON HFT\n",
      "Buck Leatherleaf HFT\n",
      "Bucky Oryx-Antlerson NON HFT\n",
      "Butch the Bulldog MIX\n",
      "Butcher Boy NON HFT\n",
      "Dallben NON HFT\n",
      "Danny MIX\n",
      "Dennis Avarius NON HFT\n",
      "Digger the Mole NON HFT\n",
      "Dijon the Thief MIX\n",
      "Don Karnage HFT\n",
      "Donald Duck MIX\n",
      "Doug Dalmatian NON HFT\n",
      "Dr. Delbert Doppler MIX\n",
      "Dr. Facilier MIX\n",
      "Dr. Joshua Sweet NON HFT\n",
      "Dr. Teeth NON HFT\n",
      "Duchess MIX\n",
      "Duke of Weselton MIX\n",
      "Dylan Dalmatian NON HFT\n",
      "Edric Blight NON HFT\n",
      "Elliott NON HFT\n",
      "Emperor Belos NON HFT\n",
      "Evinrude HFT\n",
      "Fairy Mary MIX\n",
      "Fidget MIX\n",
      "Flash MIX\n",
      "Flora MIX\n",
      "Flounder MIX\n",
      "Flunkey the Baboon HFT\n",
      "Francis HFT\n",
      "Friend Owl NON HFT\n",
      "Mad Hatter MIX\n",
      "Madame Medusa MIX\n",
      "Maddie Flour NON HFT\n",
      "Magic Carpet NON HFT\n",
      "Major the Horse MIX\n",
      "Marahute HFT\n",
      "March Hare NON HFT\n",
      "Marlon the Alligator NON HFT\n",
      "Mary Darling MIX\n",
      "Mattholomule NON HFT\n",
      "Maui MIX\n",
      "Max the Sheepdog MIX\n",
      "Megavolt MIX\n",
      "Melpomene NON HFT\n",
      "Merlock the Magician NON HFT\n",
      "Mike the Microphone MIX\n",
      "Miss Bianca NON HFT\n",
      "Miss Nettle NON HFT\n",
      "Moana NON HFT\n",
      "Monstro MIX\n",
      "Morgana MIX\n",
      "The Doorknob MIX\n",
      "The Doorman HFT\n",
      "The Magic Mirror MIX\n"
     ]
    }
   ],
   "source": [
    "for i in range(submission_finale.shape[0]):\n",
    "    individu = submission_finale[\"Trader\"][i]\n",
    "\n",
    "    temp=pred_longue[pred_longue[\"Trader\"]==individu] #on ne garde que les lignes de l'individu d'intérêt\n",
    "\n",
    "\n",
    "    nb_hft=sum(temp[\"type\"]>1.5)\n",
    "    nb_mix=sum((temp[\"type\"]>0.5)&(temp[\"type\"]<1.5))\n",
    "    nb_non_hft=sum(temp[\"type\"]<0.5)\n",
    "\n",
    "    total=nb_hft+nb_mix+nb_non_hft\n",
    "\n",
    "    if nb_hft/total>0.85 :\n",
    "        categorie = \"HFT\"\n",
    "\n",
    "    elif nb_mix/total>0.5 :\n",
    "        categorie = \"MIX\"\n",
    "\n",
    "    else:\n",
    "        categorie=\"NON HFT\"\n",
    "\n",
    "    print(individu, categorie)\n",
    "    submission_finale[\"type\"][i]=categorie"
   ]
  },
  {
   "cell_type": "code",
   "execution_count": 16,
   "id": "married-release",
   "metadata": {},
   "outputs": [],
   "source": [
    "submission_finale.to_csv('essai NN' ,index=False)"
   ]
  },
  {
   "cell_type": "raw",
   "id": "spiritual-skill",
   "metadata": {},
   "source": [
    "NB : performance 0.88"
   ]
  }
 ],
 "metadata": {
  "kernelspec": {
   "display_name": "Python 3",
   "language": "python",
   "name": "python3"
  },
  "language_info": {
   "codemirror_mode": {
    "name": "ipython",
    "version": 3
   },
   "file_extension": ".py",
   "mimetype": "text/x-python",
   "name": "python",
   "nbconvert_exporter": "python",
   "pygments_lexer": "ipython3",
   "version": "3.8.5"
  }
 },
 "nbformat": 4,
 "nbformat_minor": 5
}
